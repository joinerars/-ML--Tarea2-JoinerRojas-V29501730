{
 "cells": [
  {
   "cell_type": "code",
   "execution_count": null,
   "id": "7a997246-208e-4b4f-b92e-3b482a3c83e0",
   "metadata": {},
   "outputs": [],
   "source": []
  },
  {
   "cell_type": "code",
   "execution_count": 2,
   "id": "5357eca8-104c-4ad1-9415-53bacf36b166",
   "metadata": {},
   "outputs": [],
   "source": [
    "import os\n",
    "from PIL import Image\n",
    "import numpy as np\n",
    "from sklearn.model_selection import train_test_split, GridSearchCV\n",
    "from sklearn.linear_model import LogisticRegression\n",
    "from sklearn.metrics import accuracy_score, precision_score, recall_score, f1_score\n",
    "import matplotlib.pyplot as plt\n",
    "from tensorflow.keras.utils import to_categorical\n",
    "\n",
    "seed=29501730"
   ]
  },
  {
   "cell_type": "markdown",
   "id": "016871b4-6b7a-4b62-8f34-fc39f297ad3b",
   "metadata": {},
   "source": [
    "## 1-B Modelo de clasificación de Operadores"
   ]
  },
  {
   "cell_type": "markdown",
   "id": "40aa9de4-be59-4d1d-a7de-b16e150f40cc",
   "metadata": {},
   "source": [
    "### Preprocesamiento Transformación de Datos"
   ]
  },
  {
   "cell_type": "markdown",
   "id": "765fb6df-ca60-42b4-ac65-366dbd04fcab",
   "metadata": {},
   "source": [
    "### Preprocesamiento Transformación de Datos"
   ]
  },
  {
   "cell_type": "code",
   "execution_count": 3,
   "id": "4a92288c-e435-45aa-b2d5-9e96c80d1182",
   "metadata": {},
   "outputs": [
    {
     "name": "stdout",
     "output_type": "stream",
     "text": [
      "c:\\Users\\joine\\OneDrive\\UCV2\\SEMESTRE 2-2024\\ML\\Tareas\\Tarea #2\\ml-tarea2B-knn-svm\\src\\notebooks\\Dataset_Operadores_28x28\n"
     ]
    },
    {
     "name": "stderr",
     "output_type": "stream",
     "text": [
      "Cloning into 'Dataset_Operadores_28x28'...\n",
      "c:\\Users\\joine\\AppData\\Local\\Programs\\Python\\Python310\\lib\\site-packages\\IPython\\core\\magics\\osm.py:417: UserWarning: using dhist requires you to install the `pickleshare` library.\n",
      "  self.shell.db['dhist'] = compress_dhist(dhist)[-100:]\n"
     ]
    },
    {
     "name": "stdout",
     "output_type": "stream",
     "text": [
      "branch 'prueba' set up to track 'origin/prueba'.\n"
     ]
    },
    {
     "name": "stderr",
     "output_type": "stream",
     "text": [
      "Switched to a new branch 'prueba'\n"
     ]
    }
   ],
   "source": [
    "!git clone https://github.com/HandlessCoder/Dataset_Operadores_28x28.git\n",
    "%cd Dataset_Operadores_28x28/\n",
    "!git checkout prueba\n"
   ]
  },
  {
   "cell_type": "code",
   "execution_count": 4,
   "id": "40417da6-af91-4ccd-ba7d-155e72166c67",
   "metadata": {},
   "outputs": [
    {
     "name": "stdout",
     "output_type": "stream",
     "text": [
      "Forma de las imágenes de entrenamiento: (500, 784)\n",
      "Forma de las etiquetas de prueba: (500,)\n",
      "Forma de las imágenes prueba: (125, 784)\n",
      "Forma de las etiquetas de prueba: (125,)\n"
     ]
    }
   ],
   "source": [
    "\n",
    "\n",
    "# Función para cargar imágenes\n",
    "def load_images(root, label):\n",
    "    images = []\n",
    "    labels = []\n",
    "\n",
    "    for filename in os.listdir(root):\n",
    "        img = Image.open(os.path.join(root, filename)).convert(\"L\")\n",
    "        img = img.resize((28, 28))  # Redimensionar las imágenes a 28x28 píxeles\n",
    "        img_np = np.array(img)  # Convertir la imagen a un arreglo de NumPy\n",
    "        images.append(img_np)\n",
    "        labels.append(label)\n",
    "    return np.array(images), np.array(labels)\n",
    "\n",
    "# Definir la ruta donde están las imágenes de operadores\n",
    "root = \"\"\n",
    "\n",
    "# Cargar las imágenes y etiquetas para cada operador\n",
    "img_suma, label_suma = load_images(root + \"Suma\", ord('+'))  # Suma\n",
    "img_resta, label_resta = load_images(root + \"Resta\", ord('-'))  # Resta\n",
    "img_div1, label_div1 = load_images(root + \"Division1\", ord('/'))  # División1 -> /\n",
    "img_div2, label_div2 = load_images(root + \"Division2\", ord('÷'))  # División2 -> ÷\n",
    "img_mult1, label_mult1 = load_images(root + \"Multiplicacion1\", ord('*'))  # Multiplicación1 -> *\n",
    "img_mult2, label_mult2 = load_images(root + \"Multiplicacion2\", ord('×'))  # Multiplicación2 -> ×\n",
    "\n",
    "# Combinar todas las imágenes y etiquetas\n",
    "all_images = np.concatenate([img_suma, img_resta, img_div1, img_div2, img_mult1, img_mult2])\n",
    "all_labels = np.concatenate([label_suma, label_resta, label_div1, label_div2, label_mult1, label_mult2])\n",
    "\n",
    "# Mezclar las imágenes y etiquetas usando la semilla, esto con el objetivo de dividir el dataset de manera random utilizando la cédula como parámetro\n",
    "indices = np.arange(all_images.shape[0])\n",
    "np.random.shuffle(indices)\n",
    "all_images = all_images[indices]\n",
    "all_labels = all_labels[indices]\n",
    "\n",
    "# Dividir los datos en conjuntos de entrenamiento y prueba (80% entrenamiento, 20% prueba), estos porcentajes de división\n",
    "# son un criterio heredado de la asignatura Minería de Datos (fue el usado en regresión lineal)\n",
    "trainImages, testImages, trainLabels, testLabels = train_test_split(\n",
    "    all_images, all_labels, test_size=0.2, random_state=seed\n",
    ")\n",
    "\n",
    "# Redimensionar y normalizar las imágenes\n",
    "trainImages = trainImages.reshape((trainImages.shape[0], 28 * 28)).astype('float32') / 255\n",
    "testImages = testImages.reshape((testImages.shape[0], 28 * 28)).astype('float32') / 255\n",
    "\n",
    "# Convertir las etiquetas a categorías\n",
    "trainLabels = to_categorical(trainLabels)\n",
    "testLabels = to_categorical(testLabels)\n",
    "\n",
    "# Convertir las etiquetas de vuelta a su formato original\n",
    "trainLabels = np.argmax(trainLabels, axis=1)\n",
    "testLabels = np.argmax(testLabels, axis=1)\n",
    "\n",
    "# Mostrar la forma (dimensiones) de los datos después de las operaciones realizadas\n",
    "print('Forma de las imágenes de entrenamiento:', trainImages.shape)\n",
    "print('Forma de las etiquetas de prueba:', trainLabels.shape)\n",
    "print('Forma de las imágenes prueba:', testImages.shape)\n",
    "print('Forma de las etiquetas de prueba:', testLabels.shape)\n"
   ]
  },
  {
   "cell_type": "code",
   "execution_count": null,
   "id": "08b97c28-a8b0-4636-b4b1-e6ea702bdb57",
   "metadata": {},
   "outputs": [],
   "source": []
  },
  {
   "cell_type": "code",
   "execution_count": null,
   "id": "70c9458a-5ba5-4688-bb40-73feb956229c",
   "metadata": {},
   "outputs": [],
   "source": []
  },
  {
   "cell_type": "markdown",
   "id": "e88983e5-ecd1-49ff-adaa-dae8cb94e740",
   "metadata": {},
   "source": [
    "### Implementación de Modelos\n"
   ]
  },
  {
   "cell_type": "markdown",
   "id": "9a9cf1ef-936d-45bc-8909-0e357d35c82d",
   "metadata": {},
   "source": [
    "#### Regresión Logística"
   ]
  },
  {
   "cell_type": "markdown",
   "id": "52e82402-07bb-4c73-8d8e-5dc0f8c1e36f",
   "metadata": {},
   "source": [
    "##### Metodología"
   ]
  },
  {
   "cell_type": "code",
   "execution_count": null,
   "id": "3b0a57be-5db7-485b-98dd-33b249f650a1",
   "metadata": {},
   "outputs": [],
   "source": []
  },
  {
   "cell_type": "markdown",
   "id": "3377eca4-cce5-4279-a1bf-e1b17284c381",
   "metadata": {},
   "source": [
    "##### Código"
   ]
  },
  {
   "cell_type": "code",
   "execution_count": 5,
   "id": "1917b1ae-e0db-445d-b219-553acc500ac8",
   "metadata": {},
   "outputs": [
    {
     "name": "stdout",
     "output_type": "stream",
     "text": [
      "Resultados obtenidos:\n",
      "Hiperparámetros encontrados: {'C': 0.1, 'penalty': 'l2', 'solver': 'lbfgs'}\n",
      "\n",
      "Métricas del modelo:\n",
      "Accuracy: 90.20%\n",
      "Precisión del modelo en el conjunto de prueba: 91.20%\n",
      "Precisión (Precision): 91.71%\n",
      "Recall: 91.20%\n",
      "F1 Score: 91.15%\n"
     ]
    }
   ],
   "source": [
    "from sklearn.model_selection import GridSearchCV\n",
    "from sklearn.linear_model import LogisticRegression\n",
    "from sklearn.metrics import accuracy_score, precision_score, recall_score, f1_score\n",
    "\n",
    "# Definir el modelo y los hiperparámetros a ajustar\n",
    "param_grid_LR = {\n",
    "    'C': [0.001, 0.01, 0.1, 1, 10, 100],\n",
    "    'penalty': ['l2'],\n",
    "    'solver': ['lbfgs', 'saga']\n",
    "}\n",
    "\n",
    "# Realizar la búsqueda de hiperparámetros con validación cruzada\n",
    "grid_search_LR = GridSearchCV(LogisticRegression(max_iter=500), param_grid_LR, cv=5, scoring='accuracy', n_jobs=-1)\n",
    "grid_search_LR.fit(trainImages, trainLabels)\n",
    "\n",
    "# Resultados de la búsqueda de hiperparámetros\n",
    "print(f\"Resultados obtenidos:\")\n",
    "print(f\"Hiperparámetros encontrados: {grid_search_LR.best_params_}\\n\")\n",
    "print(f\"Métricas del modelo:\")\n",
    "print(f\"Accuracy: {grid_search_LR.best_score_ * 100:.2f}%\")\n",
    "\n",
    "# Evaluar el mejor modelo en el conjunto de prueba\n",
    "best_model_LR = grid_search_LR.best_estimator_\n",
    "lr_predictions = best_model_LR.predict(testImages)\n",
    "\n",
    "lr_accuracy = accuracy_score(testLabels, lr_predictions)\n",
    "lr_precision = precision_score(testLabels, lr_predictions, average='weighted')\n",
    "lr_recall = recall_score(testLabels, lr_predictions, average='weighted')\n",
    "lr_f1 = f1_score(testLabels, lr_predictions, average='weighted')\n",
    "\n",
    "print(f\"Precisión del modelo en el conjunto de prueba: {lr_accuracy * 100:.2f}%\")\n",
    "print(f\"Precisión (Precision): {lr_precision * 100:.2f}%\")\n",
    "print(f\"Recall: {lr_recall * 100:.2f}%\")\n",
    "print(f\"F1 Score: {lr_f1 * 100:.2f}%\")\n"
   ]
  },
  {
   "cell_type": "markdown",
   "id": "e10dd22b-cbc0-42d6-b54b-e56c0310c20c",
   "metadata": {},
   "source": [
    "##### Evaluación del modelo"
   ]
  },
  {
   "cell_type": "code",
   "execution_count": null,
   "id": "1a57e069-b6e7-4722-b8fe-2bbe14a09b33",
   "metadata": {},
   "outputs": [],
   "source": []
  },
  {
   "cell_type": "code",
   "execution_count": null,
   "id": "c21bd2a3-980f-4ae2-8846-3eac89ba243e",
   "metadata": {},
   "outputs": [],
   "source": []
  },
  {
   "cell_type": "code",
   "execution_count": 6,
   "id": "be1af1e7-7511-420b-ad22-04afb1baa5d1",
   "metadata": {},
   "outputs": [
    {
     "ename": "SyntaxError",
     "evalue": "invalid syntax (1327378259.py, line 1)",
     "output_type": "error",
     "traceback": [
      "\u001b[1;36m  Cell \u001b[1;32mIn[6], line 1\u001b[1;36m\u001b[0m\n\u001b[1;33m    k vecinos\u001b[0m\n\u001b[1;37m      ^\u001b[0m\n\u001b[1;31mSyntaxError\u001b[0m\u001b[1;31m:\u001b[0m invalid syntax\n"
     ]
    }
   ],
   "source": [
    "k vecinos"
   ]
  },
  {
   "cell_type": "code",
   "execution_count": 8,
   "id": "7d95ee90-3f27-4b93-a9dd-e8203a2a5c63",
   "metadata": {},
   "outputs": [
    {
     "name": "stdout",
     "output_type": "stream",
     "text": [
      "Mejores hiperparámetros para k-NN: {'metric': 'euclidean', 'n_neighbors': 3, 'weights': 'uniform'}\n",
      "\n",
      "Métricas del modelo:\n",
      "Accuracy: 91.80%\n",
      "Precisión del modelo k-NN en el conjunto de prueba: 93.60%\n",
      "Precisión (Precision): 93.98%\n",
      "Recall: 93.60%\n",
      "F1 Score: 93.62%\n"
     ]
    }
   ],
   "source": [
    "from sklearn.neighbors import KNeighborsClassifier\n",
    "from sklearn.model_selection import GridSearchCV\n",
    "from sklearn.metrics import accuracy_score, precision_score, recall_score, f1_score\n",
    "\n",
    "# Definir el modelo y los hiperparámetros a ajustar\n",
    "param_grid_kNN = {\n",
    "    'n_neighbors': [3, 5, 7, 9],  # Prueba diferentes valores de k\n",
    "    'weights': ['uniform', 'distance'],\n",
    "    'metric': ['euclidean', 'manhattan']\n",
    "}\n",
    "\n",
    "# Realizar la búsqueda de hiperparámetros con validación cruzada\n",
    "grid_search_kNN = GridSearchCV(KNeighborsClassifier(), param_grid_kNN, cv=5, scoring='accuracy', n_jobs=-1)\n",
    "grid_search_kNN.fit(trainImages, trainLabels)\n",
    "\n",
    "# Resultados de la búsqueda de hiperparámetros\n",
    "print(f\"Mejores hiperparámetros para k-NN: {grid_search_kNN.best_params_}\\n\")\n",
    "print(f\"Métricas del modelo:\")\n",
    "print(f\"Accuracy: {grid_search_kNN.best_score_ * 100:.2f}%\")\n",
    "\n",
    "# Evaluar el mejor modelo en el conjunto de prueba\n",
    "best_model_kNN = grid_search_kNN.best_estimator_\n",
    "knn_predictions = best_model_kNN.predict(testImages)\n",
    "\n",
    "knn_accuracy = accuracy_score(testLabels, knn_predictions)\n",
    "knn_precision = precision_score(testLabels, knn_predictions, average='weighted')\n",
    "knn_recall = recall_score(testLabels, knn_predictions, average='weighted')\n",
    "knn_f1 = f1_score(testLabels, knn_predictions, average='weighted')\n",
    "\n",
    "print(f\"Precisión del modelo k-NN en el conjunto de prueba: {knn_accuracy * 100:.2f}%\")\n",
    "print(f\"Precisión (Precision): {knn_precision * 100:.2f}%\")\n",
    "print(f\"Recall: {knn_recall * 100:.2f}%\")\n",
    "print(f\"F1 Score: {knn_f1 * 100:.2f}%\")\n"
   ]
  },
  {
   "cell_type": "code",
   "execution_count": null,
   "id": "ef6458b0-2db6-4ead-83de-0d08dc524eab",
   "metadata": {},
   "outputs": [],
   "source": [
    "MSV"
   ]
  },
  {
   "cell_type": "code",
   "execution_count": null,
   "id": "fd31b46e-97dd-49ed-9425-7719fb6c4bc7",
   "metadata": {},
   "outputs": [
    {
     "name": "stdout",
     "output_type": "stream",
     "text": [
      "Mejores hiperparámetros para SVM: {'C': 10, 'gamma': 'scale', 'kernel': 'rbf'}\n",
      "Precisión del modelo SVM en el conjunto de prueba: 91.20%\n",
      "Precisión (Precision): 92.58%\n",
      "Recall: 91.20%\n",
      "F1 Score: 91.22%\n"
     ]
    }
   ],
   "source": [
    "from sklearn.svm import SVC\n",
    "from sklearn.model_selection import GridSearchCV\n",
    "from sklearn.metrics import accuracy_score, precision_score, recall_score, f1_score\n",
    "\n",
    "# Ajuste de hiperparámetros para Máquinas de Soporte Vectorial (SVM)\n",
    "param_grid_SVM = {\n",
    "    'C': [0.1, 1, 10],  # Puedes ajustar estos valores según sea necesario\n",
    "    'kernel': ['linear', 'rbf', 'poly'],  # Añadir 'poly' para mayor exhaustividad\n",
    "    'gamma': ['scale', 'auto']  # Añadir 'auto' para mayor exhaustividad\n",
    "}\n",
    "\n",
    "# Realizar la búsqueda de hiperparámetros con validación cruzada\n",
    "grid_search_SVM = GridSearchCV(SVC(), param_grid_SVM, cv=5, scoring='accuracy', n_jobs=-1)\n",
    "grid_search_SVM.fit(trainImages, trainLabels)\n",
    "\n",
    "# Evaluar el mejor modelo SVM\n",
    "best_model_SVM = grid_search_SVM.best_estimator_\n",
    "svm_predictions = best_model_SVM.predict(testImages)\n",
    "\n",
    "svm_accuracy = accuracy_score(testLabels, svm_predictions)\n",
    "svm_precision = precision_score(testLabels, svm_predictions, average='weighted')\n",
    "svm_recall = recall_score(testLabels, svm_predictions, average='weighted')\n",
    "svm_f1 = f1_score(testLabels, svm_predictions, average='weighted')\n",
    "\n",
    "print(f\"Mejores hiperparámetros para SVM: {grid_search_SVM.best_params_}\")\n",
    "print(f\"Precisión del modelo SVM en el conjunto de prueba: {svm_accuracy * 100:.2f}%\")\n",
    "print(f\"Precisión (Precision): {svm_precision * 100:.2f}%\")\n",
    "print(f\"Recall: {svm_recall * 100:.2f}%\")\n",
    "print(f\"F1 Score: {svm_f1 * 100:.2f}%\")\n"
   ]
  },
  {
   "cell_type": "code",
   "execution_count": null,
   "id": "a9ed0e12-aa08-4013-a4ee-a02f3dc68593",
   "metadata": {},
   "outputs": [
    {
     "name": "stdout",
     "output_type": "stream",
     "text": [
      "                 Model  Accuracy  Precision  Recall  F1 Score\n",
      "0  Logistic Regression     0.912   0.917079   0.912  0.912402\n",
      "1                 k-NN     0.936   0.945894   0.936  0.936649\n",
      "2                  SVM     0.936   0.938033   0.936  0.936157\n"
     ]
    }
   ],
   "source": [
    "# Guardar métricas en un diccionario\n",
    "metrics = {\n",
    "    'Model': ['Logistic Regression', 'k-NN', 'SVM'],\n",
    "    'Accuracy': [lr_accuracy, knn_accuracy, svm_accuracy],\n",
    "    'Precision': [lr_precision, knn_precision, svm_precision],\n",
    "    'Recall': [lr_recall, knn_recall, svm_recall],\n",
    "    'F1 Score': [lr_f1, knn_f1, svm_f1]\n",
    "}\n",
    "\n",
    "\n",
    "import pandas as pd\n",
    "\n",
    "# Convertir el diccionario en un DataFrame\n",
    "metrics_df = pd.DataFrame(metrics)\n",
    "\n",
    "# Mostrar la tabla\n",
    "print(metrics_df)\n"
   ]
  },
  {
   "cell_type": "code",
   "execution_count": null,
   "id": "ff171084-c700-4da9-8802-995c74d75c36",
   "metadata": {},
   "outputs": [
    {
     "data": {
      "image/png": "[encoded data removed]",
      "text/plain": [
       "<Figure size 400x200 with 1 Axes>"
      ]
     },
     "metadata": {},
     "output_type": "display_data"
    },
    {
     "data": {
      "image/png": "[encoded data removed]",
      "text/plain": [
       "<Figure size 400x200 with 1 Axes>"
      ]
     },
     "metadata": {},
     "output_type": "display_data"
    }
   ],
   "source": [
    "import seaborn as sns\n",
    "import pandas as pd\n",
    "import matplotlib.pyplot as plt\n",
    "\n",
    "# Guardar métricas en un diccionario\n",
    "metrics = {\n",
    "    'Model': ['Logistic Regression', 'k-NN', 'SVM'],\n",
    "    'Accuracy': [lr_accuracy, knn_accuracy, svm_accuracy],\n",
    "    'Precision': [lr_precision, knn_precision, svm_precision],\n",
    "    'Recall': [lr_recall, knn_recall, svm_recall],\n",
    "    'F1 Score': [lr_f1, knn_f1, svm_f1]\n",
    "}\n",
    "\n",
    "# Convertir el diccionario en un DataFrame\n",
    "metrics_df = pd.DataFrame(metrics)\n",
    "\n",
    "# Crear una gráfica de barras con Seaborn para Accuracy\n",
    "plt.figure(figsize=(4, 2))  # Reducir tamaño de la gráfica\n",
    "sns.barplot(x='Model', y='Accuracy', hue='Model', data=metrics_df, palette='viridis', dodge=False)\n",
    "plt.title('Comparación de Accuracy entre Modelos')\n",
    "plt.legend([], [], frameon=False)  # Eliminar leyenda redundante\n",
    "plt.show()\n",
    "\n",
    "# Crear una gráfica de barras para Precision, Recall y F1 Score\n",
    "plt.figure(figsize=(4, 2))  # Reducir tamaño de la gráfica\n",
    "metrics_melted = metrics_df.melt(id_vars='Model', value_vars=['Precision', 'Recall', 'F1 Score'], var_name='Metric', value_name='Score')\n",
    "sns.barplot(x='Model', y='Score', hue='Metric', data=metrics_melted, palette='viridis')\n",
    "plt.title('Comparación de Precision, Recall y F1 Score entre Modelos')\n",
    "plt.show()\n"
   ]
  },
  {
   "cell_type": "code",
   "execution_count": 14,
   "id": "80d424ab-72a8-4643-b430-5a82e169dd3a",
   "metadata": {},
   "outputs": [
    {
     "name": "stdout",
     "output_type": "stream",
     "text": [
      "Modelo guardado en c:\\Users\\joine\\OneDrive\\UCV2\\SEMESTRE 2-2024\\ML\\Tareas\\Tarea #2\\ml-tarea2B-knn-svm\\src\\notebooks\\models\\output\\OperatorsModel.joblib\n"
     ]
    }
   ],
   "source": [
    "import joblib\n",
    "import os\n",
    "\n",
    "# Supongamos que has decidido usar el modelo SVM como modelo definitivo\n",
    "final_model = best_model_kNN\n",
    "\n",
    "# Definir la ruta relativa a partir del directorio actual del notebook\n",
    "ruta_notebook = os.path.abspath(\"\")\n",
    "\n",
    "# Crear la ruta hacia la carpeta hermana 'models/output'\n",
    "ruta_guardado = os.path.abspath(os.path.join(ruta_notebook, \"../models/output\"))\n",
    "nombre_archivo = \"OperatorsModel.joblib\"\n",
    "\n",
    "# Crear la carpeta si no existe\n",
    "if not os.path.exists(ruta_guardado):\n",
    "    os.makedirs(ruta_guardado)\n",
    "\n",
    "# Crear la ruta completa\n",
    "ruta_completa = os.path.join(ruta_guardado, nombre_archivo)\n",
    "\n",
    "# Guardar el modelo en la ruta especificada\n",
    "joblib.dump(final_model, ruta_completa)\n",
    "\n",
    "print(f\"Modelo guardado en {ruta_completa}\")\n"
   ]
  },
  {
   "cell_type": "code",
   "execution_count": null,
   "id": "4c51a1cf-adb6-4700-908f-430b3f47e92c",
   "metadata": {},
   "outputs": [],
   "source": []
  }
 ],
 "metadata": {
  "kernelspec": {
   "display_name": "Python 3",
   "language": "python",
   "name": "python3"
  },
  "language_info": {
   "codemirror_mode": {
    "name": "ipython",
    "version": 3
   },
   "file_extension": ".py",
   "mimetype": "text/x-python",
   "name": "python",
   "nbconvert_exporter": "python",
   "pygments_lexer": "ipython3",
   "version": "3.10.6"
  }
 },
 "nbformat": 4,
 "nbformat_minor": 5
}
