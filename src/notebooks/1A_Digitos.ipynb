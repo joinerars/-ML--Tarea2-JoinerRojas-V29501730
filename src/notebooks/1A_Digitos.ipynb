{
 "cells": [
  {
   "cell_type": "markdown",
   "id": "546d714c-4110-4d80-96ef-63c513775d65",
   "metadata": {},
   "source": [
    "# Universidad Central de Venezuela\n",
    "## Facultad de Ciencias\n",
    "### Escuela de Computación\n",
    "#### Aprendizaje Automático\n",
    "\n",
    "**Joiner Rojas V29501730**\n",
    "\n",
    "## Tarea #2 - Python"
   ]
  },
  {
   "cell_type": "markdown",
   "id": "7c5ebf80-4d5b-416d-8a2f-c59c2d32e73b",
   "metadata": {},
   "source": [
    "# Sección 1: Clasificación"
   ]
  },
  {
   "cell_type": "markdown",
   "id": "a4d4ab56-415c-4f95-91dc-a785f3781f5b",
   "metadata": {},
   "source": [
    "## 1-A Modelo de clasificación de Números"
   ]
  },
  {
   "cell_type": "markdown",
   "id": "38b9e8bf-0ba7-4e02-95a0-e825149272b5",
   "metadata": {},
   "source": [
    "### Preprocesamiento Transformación de Datos"
   ]
  },
  {
   "cell_type": "markdown",
   "id": "54d6027f-373f-46d4-97af-8040cdab62c5",
   "metadata": {},
   "source": [
    "#### Metodología"
   ]
  },
  {
   "cell_type": "markdown",
   "id": "f6378611-4614-4f5b-baa9-a609af79216a",
   "metadata": {},
   "source": [
    "En esta sección, se detallan los pasos para el preprocesamiento y transformación de los datos, así como la implementación de los modelos de Regresión Logística, k-Vecinos más Cercanos (k-NN) y Máquinas de Soporte Vectorial (SVM).\n"
   ]
  },
  {
   "cell_type": "markdown",
   "id": "c2f0ddea-8565-492d-9e11-e80a62b035aa",
   "metadata": {},
   "source": [
    "El primer paso consiste en cargar y preprocesar el dataset MNIST. A continuación se describen los pasos realizados para este propósito:\n"
   ]
  },
  {
   "cell_type": "markdown",
   "id": "104a5f4d-b447-42ce-b50b-58c4447c1229",
   "metadata": {},
   "source": [
    "#### Código"
   ]
  },
  {
   "cell_type": "code",
   "execution_count": 1,
   "id": "75065868-6130-43d5-841d-2ae28b146dc1",
   "metadata": {},
   "outputs": [
    {
     "name": "stdout",
     "output_type": "stream",
     "text": [
      "Forma de las imágenes de entrenamiento: (56000, 784)\n",
      "Forma de las etiquetas de prueba: (56000,)\n",
      "Forma de las imágenes prueba: (14000, 784)\n",
      "Forma de las etiquetas de prueba: (14000,)\n"
     ]
    }
   ],
   "source": [
    "# Importar la función para cargar MNIST desde Keras\n",
    "from keras.datasets import mnist\n",
    "import os\n",
    "from PIL import Image\n",
    "import numpy as np\n",
    "from sklearn.model_selection import train_test_split, GridSearchCV\n",
    "from sklearn.linear_model import LogisticRegression\n",
    "from sklearn.metrics import accuracy_score, precision_score, recall_score, f1_score\n",
    "import matplotlib.pyplot as plt\n",
    "from tensorflow.keras.utils import to_categorical\n",
    "\n",
    "# Definir la cédula como semilla \n",
    "seed = 29501730\n",
    "np.random.seed(seed)\n",
    "\n",
    "# Cargar el dataset MNIST\n",
    "(trainImages, trainLabels), (testImages, testLabels) = mnist.load_data()\n",
    "\n",
    "# Unir todas las imágenes y etiquetas\n",
    "Images = np.concatenate((trainImages, testImages), axis=0)\n",
    "Labels = np.concatenate((trainLabels, testLabels), axis=0)\n",
    "\n",
    "# Mezclar las imágenes y etiquetas usando la semilla, esto con el objetivo de dividir el dataset de manera random utilizando la cédula como parámetro\n",
    "indices = np.arange(Images.shape[0])\n",
    "np.random.shuffle(indices)\n",
    "Images = Images[indices]\n",
    "Labels = Labels[indices]\n",
    "\n",
    "# Dividir los datos en conjuntos de entrenamiento y prueba (80% entrenamiento, 20% prueba), estos porcentajes de división\n",
    "# son un criterio heredado de la asignatura Minería de Datos (fue el usado en regresión lineal)\n",
    "trainImages, testImages, trainLabels, testLabels = train_test_split(\n",
    "    Images, Labels, test_size=0.2, random_state=seed\n",
    ")\n",
    "\n",
    "\n",
    "# Redimensionar y normalizar las imágenes\n",
    "trainImages = trainImages.reshape((trainImages.shape[0], 28 * 28)).astype('float32') / 255\n",
    "testImages = testImages.reshape((testImages.shape[0], 28 * 28)).astype('float32') / 255\n",
    "\n",
    "# Convertir las etiquetas a categorías\n",
    "trainLabels = to_categorical(trainLabels)\n",
    "testLabels = to_categorical(testLabels)\n",
    "\n",
    "# Convertir las etiquetas de vuelta a su formato original\n",
    "trainLabels = np.argmax(trainLabels, axis=1)\n",
    "testLabels = np.argmax(testLabels, axis=1)\n",
    "\n",
    "# Mostrar la forma (dimensiones) de los datos después de las operaciones realizadas\n",
    "print('Forma de las imágenes de entrenamiento:', trainImages.shape)\n",
    "print('Forma de las etiquetas de prueba:', trainLabels.shape)\n",
    "print('Forma de las imágenes prueba:', testImages.shape)\n",
    "print('Forma de las etiquetas de prueba:', testLabels.shape)\n",
    "\n"
   ]
  },
  {
   "cell_type": "markdown",
   "id": "f8dc006c-100b-46ce-a6d5-713a2391b032",
   "metadata": {},
   "source": [
    "#### Discusion de resultados "
   ]
  },
  {
   "cell_type": "markdown",
   "id": "f78b86ea-dfe1-445a-8f19-8db8427c432b",
   "metadata": {},
   "source": [
    "### Implementación de Modelos\n",
    "\n"
   ]
  },
  {
   "cell_type": "markdown",
   "id": "34a63a15-4c13-4e48-878d-b9564117ac02",
   "metadata": {},
   "source": [
    "En esta sección se implementan tres modelos de clasificación diferentes: Regresión Logística, k-Vecinos más Cercanos (k-NN), y Máquinas de Soporte Vectorial (SVM). Para cada modelo, se ajustan los hiperparámetros utilizando `GridSearchCV` y se evalúa el rendimiento."
   ]
  },
  {
   "cell_type": "markdown",
   "id": "f84bc556-68bc-47b0-b3ab-c0b068451c4d",
   "metadata": {},
   "source": [
    "#### Regresión Logística\n"
   ]
  },
  {
   "cell_type": "markdown",
   "id": "03ddd29e-b03c-4607-8cd8-b95131fc7872",
   "metadata": {},
   "source": [
    "##### Metodología"
   ]
  },
  {
   "cell_type": "code",
   "execution_count": null,
   "id": "b588ab08-d4e8-4f3f-b641-a45a54bcacd2",
   "metadata": {},
   "outputs": [],
   "source": [
    "explicacion de que es y que se hace, parametros etc"
   ]
  },
  {
   "cell_type": "markdown",
   "id": "ed566203-bffa-4149-86d8-fe88497c0a51",
   "metadata": {},
   "source": [
    "##### Código\n"
   ]
  },
  {
   "cell_type": "code",
   "execution_count": 2,
   "id": "27585143-c172-4418-bbc1-b123d4cdb404",
   "metadata": {},
   "outputs": [
    {
     "name": "stdout",
     "output_type": "stream",
     "text": [
      "Resultados obtenidos:\n",
      "Hiperparámetros encontrados: {'C': 0.1, 'penalty': 'l2', 'solver': 'lbfgs'}\n",
      "\n",
      "Métricas del modelo:\n",
      "Accuracy: 91.96%\n",
      "Precisión del modelo en el conjunto de prueba: 92.41%\n",
      "Precisión (Precision): 92.39%\n",
      "Recall: 92.41%\n",
      "F1 Score: 92.39%\n"
     ]
    }
   ],
   "source": [
    "# Definir el modelo y los hiperparámetros a ajustar\n",
    "param_grid_LR = {\n",
    "    #'C': [0.01, 0.1, 1, 10, 100],\n",
    "    'C': [0.01, 0.1, 1],\n",
    "    'penalty': ['l2'],  \n",
    "    'solver': ['lbfgs']\n",
    "}\n",
    "\n",
    "# Realizar la búsqueda de hiperparámetros con validación cruzada\n",
    "\n",
    "#grid_search_LR = GridSearchCV(LogisticRegression(max_iter=1000), param_grid_LR, cv=5, scoring='accuracy')\n",
    "grid_search_LR= GridSearchCV(LogisticRegression(max_iter=500), param_grid_LR, cv=3, scoring='accuracy')\n",
    "grid_search_LR.fit(trainImages, trainLabels)\n",
    "\n",
    "\n",
    "# Resultados de la búsqueda de hiperparámetros\n",
    "print(f\"Resultados obtenidos:\")\n",
    "print(f\"Hiperparámetros encontrados: {grid_search_LR.best_params_}\\n\")\n",
    "print(f\"Métricas del modelo:\")\n",
    "print(f\"Accuracy: {grid_search_LR.best_score_ * 100:.2f}%\")\n",
    "\n",
    "# Evaluar el mejor modelo en el conjunto de prueba\n",
    "best_model_LR = grid_search_LR.best_estimator_\n",
    "lr_predictions = best_model_LR.predict(testImages)\n",
    "\n",
    "lr_accuracy = accuracy_score(testLabels, lr_predictions)\n",
    "lr_precision = precision_score(testLabels, lr_predictions, average='weighted')\n",
    "lr_recall = recall_score(testLabels, lr_predictions, average='weighted')\n",
    "lr_f1 = f1_score(testLabels, lr_predictions, average='weighted')\n",
    "\n",
    "print(f\"Precisión del modelo en el conjunto de prueba: {lr_accuracy * 100:.2f}%\")\n",
    "print(f\"Precisión (Precision): {lr_precision * 100:.2f}%\")\n",
    "print(f\"Recall: {lr_recall * 100:.2f}%\")\n",
    "print(f\"F1 Score: {lr_f1 * 100:.2f}%\")\n",
    "\n",
    "\n"
   ]
  },
  {
   "cell_type": "markdown",
   "id": "796afd5d-843f-4873-868b-6071786c8f5d",
   "metadata": {},
   "source": [
    "##### Evaluación del modelo"
   ]
  },
  {
   "cell_type": "code",
   "execution_count": null,
   "id": "23cfd40e-3b35-476a-86d9-1707ce61f4cf",
   "metadata": {},
   "outputs": [],
   "source": []
  },
  {
   "cell_type": "markdown",
   "id": "dbed30fc-fc4b-4807-af7f-017cbf5f2641",
   "metadata": {},
   "source": [
    "##### Discusión de Resultados"
   ]
  },
  {
   "cell_type": "code",
   "execution_count": null,
   "id": "2940291a-ec31-4efd-aa3c-3dbd30894fb3",
   "metadata": {},
   "outputs": [],
   "source": [
    "bla bla bla"
   ]
  },
  {
   "cell_type": "markdown",
   "id": "ed6e649d-3395-4fe3-9667-b34d7183252f",
   "metadata": {},
   "source": [
    "#### K-vecinos"
   ]
  },
  {
   "cell_type": "markdown",
   "id": "c88b3912-f573-45de-a340-6d8c58e85ded",
   "metadata": {},
   "source": [
    "##### Metodología"
   ]
  },
  {
   "cell_type": "code",
   "execution_count": null,
   "id": "db8af6ef-6674-4922-a761-126cc6c19d8d",
   "metadata": {},
   "outputs": [],
   "source": [
    "es un alg"
   ]
  },
  {
   "cell_type": "markdown",
   "id": "f0e73fee-8516-45ff-a978-2efb1480c2fc",
   "metadata": {},
   "source": [
    "##### Código"
   ]
  },
  {
   "cell_type": "code",
   "execution_count": 3,
   "id": "e4ea2771-f3ae-49e9-85ae-971c17ce22c5",
   "metadata": {},
   "outputs": [
    {
     "ename": "NameError",
     "evalue": "name 'KNeighborsClassifier' is not defined",
     "output_type": "error",
     "traceback": [
      "\u001b[1;31m---------------------------------------------------------------------------\u001b[0m",
      "\u001b[1;31mNameError\u001b[0m                                 Traceback (most recent call last)",
      "Cell \u001b[1;32mIn[3], line 7\u001b[0m\n\u001b[0;32m      1\u001b[0m param_grid_kNN \u001b[38;5;241m=\u001b[39m {\n\u001b[0;32m      2\u001b[0m     \u001b[38;5;124m'\u001b[39m\u001b[38;5;124mn_neighbors\u001b[39m\u001b[38;5;124m'\u001b[39m: [\u001b[38;5;241m3\u001b[39m, \u001b[38;5;241m5\u001b[39m, \u001b[38;5;241m7\u001b[39m, \u001b[38;5;241m9\u001b[39m],  \u001b[38;5;66;03m# Prueba diferentes valores de k\u001b[39;00m\n\u001b[0;32m      3\u001b[0m     \u001b[38;5;124m'\u001b[39m\u001b[38;5;124mweights\u001b[39m\u001b[38;5;124m'\u001b[39m: [\u001b[38;5;124m'\u001b[39m\u001b[38;5;124muniform\u001b[39m\u001b[38;5;124m'\u001b[39m, \u001b[38;5;124m'\u001b[39m\u001b[38;5;124mdistance\u001b[39m\u001b[38;5;124m'\u001b[39m],\n\u001b[0;32m      4\u001b[0m     \u001b[38;5;124m'\u001b[39m\u001b[38;5;124mmetric\u001b[39m\u001b[38;5;124m'\u001b[39m: [\u001b[38;5;124m'\u001b[39m\u001b[38;5;124meuclidean\u001b[39m\u001b[38;5;124m'\u001b[39m, \u001b[38;5;124m'\u001b[39m\u001b[38;5;124mmanhattan\u001b[39m\u001b[38;5;124m'\u001b[39m]\n\u001b[0;32m      5\u001b[0m }\n\u001b[1;32m----> 7\u001b[0m grid_search_kNN \u001b[38;5;241m=\u001b[39m GridSearchCV(\u001b[43mKNeighborsClassifier\u001b[49m(), param_grid_kNN, cv\u001b[38;5;241m=\u001b[39m\u001b[38;5;241m3\u001b[39m, scoring\u001b[38;5;241m=\u001b[39m\u001b[38;5;124m'\u001b[39m\u001b[38;5;124maccuracy\u001b[39m\u001b[38;5;124m'\u001b[39m)\n\u001b[0;32m      8\u001b[0m grid_search_kNN\u001b[38;5;241m.\u001b[39mfit(trainImages, trainLabels)\n\u001b[0;32m     10\u001b[0m best_model_kNN \u001b[38;5;241m=\u001b[39m grid_search_kNN\u001b[38;5;241m.\u001b[39mbest_estimator_\n",
      "\u001b[1;31mNameError\u001b[0m: name 'KNeighborsClassifier' is not defined"
     ]
    }
   ],
   "source": [
    "\n",
    "param_grid_kNN = {\n",
    "    'n_neighbors': [3, 5, 7, 9],  # Prueba diferentes valores de k\n",
    "    'weights': ['uniform', 'distance'],\n",
    "    'metric': ['euclidean', 'manhattan']\n",
    "}\n",
    "\n",
    "grid_search_kNN = GridSearchCV(KNeighborsClassifier(), param_grid_kNN, cv=3, scoring='accuracy')\n",
    "grid_search_kNN.fit(trainImages, trainLabels)\n",
    "\n",
    "best_model_kNN = grid_search_kNN.best_estimator_\n",
    "knn_predictions = best_model_kNN.predict(testImages)\n",
    "\n",
    "knn_accuracy = accuracy_score(testLabels, knn_predictions)\n",
    "knn_precision = precision_score(testLabels, knn_predictions, average='weighted')\n",
    "knn_recall = recall_score(testLabels, knn_predictions, average='weighted')\n",
    "knn_f1 = f1_score(testLabels, knn_predictions, average='weighted')\n",
    "\n",
    "print(f\"Mejores hiperparámetros para k-NN: {grid_search_kNN.best_params_}\")\n",
    "print(f\"Precisión del modelo k-NN en el conjunto de prueba: {knn_accuracy * 100:.2f}%\")\n",
    "print(f\"Precisión (Precision): {knn_precision * 100:.2f}%\")\n",
    "print(f\"Recall: {knn_recall * 100:.2f}%\")\n",
    "print(f\"F1 Score: {knn_f1 * 100:.2f}%\")\n"
   ]
  },
  {
   "cell_type": "markdown",
   "id": "63dd3af3-e65d-47bd-b098-c9faa9d98f86",
   "metadata": {},
   "source": [
    "##### Evaluación del modelo"
   ]
  },
  {
   "cell_type": "code",
   "execution_count": null,
   "id": "b1fa313e-5bb2-4955-8b12-9b7a717ae975",
   "metadata": {},
   "outputs": [],
   "source": []
  },
  {
   "cell_type": "markdown",
   "id": "68090bf3-84c3-40ed-96f8-ace2cdcec331",
   "metadata": {},
   "source": [
    "##### Análisis de Resultados"
   ]
  },
  {
   "cell_type": "code",
   "execution_count": null,
   "id": "f95e0e74-454a-4974-9068-7ef84eb6a434",
   "metadata": {},
   "outputs": [],
   "source": []
  },
  {
   "cell_type": "markdown",
   "id": "4067f1df-2650-4fe6-b26b-dd3c6cd8c54e",
   "metadata": {},
   "source": [
    "#### Máquinas de Soporte Vectorial"
   ]
  },
  {
   "cell_type": "markdown",
   "id": "5ce35677-27d0-4c06-a9c4-1ec3fda3a233",
   "metadata": {},
   "source": [
    "##### Metodología"
   ]
  },
  {
   "cell_type": "code",
   "execution_count": null,
   "id": "2792b7cc-4fb5-4a18-823c-30da09c4b831",
   "metadata": {},
   "outputs": [],
   "source": []
  },
  {
   "cell_type": "markdown",
   "id": "f9a5e536-a216-4097-95a0-138f535c503f",
   "metadata": {},
   "source": [
    "##### Código"
   ]
  },
  {
   "cell_type": "code",
   "execution_count": null,
   "id": "bfd1dc07-02d1-45c7-9c36-36550252e0ac",
   "metadata": {},
   "outputs": [],
   "source": [
    "# Ajuste de hiperparámetros para Máquinas de Soporte Vectorial (SVM)\n",
    "param_grid_SVM = {\n",
    "    'C': [0.1, 1],\n",
    "    'kernel': ['linear', 'rbf'],\n",
    "    'gamma': ['scale']\n",
    "}\n",
    "\n",
    "grid_search_SVM = GridSearchCV(SVC(), param_grid_SVM, cv=3, scoring='accuracy')\n",
    "grid_search_SVM.fit(trainImages, trainLabels)\n",
    "\n",
    "# Evaluar el mejor modelo SVM\n",
    "best_model_SVM = grid_search_SVM.best_estimator_\n",
    "svm_predictions = best_model_SVM.predict(testImages)\n",
    "\n",
    "svm_accuracy = accuracy_score(testLabels, svm_predictions)\n",
    "svm_precision = precision_score(testLabels, svm_predictions, average='weighted')\n",
    "svm_recall = recall_score(testLabels, svm_predictions, average='weighted')\n",
    "svm_f1 = f1_score(testLabels, svm_predictions, average='weighted')\n",
    "\n",
    "print(f\"Mejores hiperparámetros para SVM: {grid_search_SVM.best_params_}\")\n",
    "print(f\"Precisión del modelo SVM en el conjunto de prueba: {svm_accuracy * 100:.2f}%\")\n",
    "print(f\"Precisión (Precision): {svm_precision * 100:.2f}%\")\n",
    "print(f\"Recall: {svm_recall * 100:.2f}%\")\n",
    "print(f\"F1 Score: {svm_f1 * 100:.2f}%\")"
   ]
  },
  {
   "cell_type": "markdown",
   "id": "3ec8c35c-c75a-4327-b3cb-e7e1ece8febc",
   "metadata": {},
   "source": [
    "##### Evaluación del modelo"
   ]
  },
  {
   "cell_type": "code",
   "execution_count": null,
   "id": "7c3ef422-509a-445f-adde-d5b78006c639",
   "metadata": {},
   "outputs": [],
   "source": []
  },
  {
   "cell_type": "markdown",
   "id": "0d0bec5e-fc52-4e7f-8d5b-5239be500f8a",
   "metadata": {},
   "source": [
    "##### Discusion de Resultados"
   ]
  },
  {
   "cell_type": "code",
   "execution_count": null,
   "id": "0f8abed8-8a1e-403e-b18f-b757cee4e081",
   "metadata": {},
   "outputs": [],
   "source": []
  },
  {
   "cell_type": "code",
   "execution_count": 6,
   "id": "6834ca17-2b1f-4bbf-9d9e-efc9d32c98e8",
   "metadata": {},
   "outputs": [
    {
     "ename": "NameError",
     "evalue": "name 'knn_accuracy' is not defined",
     "output_type": "error",
     "traceback": [
      "\u001b[1;31m---------------------------------------------------------------------------\u001b[0m",
      "\u001b[1;31mNameError\u001b[0m                                 Traceback (most recent call last)",
      "Cell \u001b[1;32mIn[6], line 8\u001b[0m\n\u001b[0;32m      3\u001b[0m \u001b[38;5;28;01mimport\u001b[39;00m \u001b[38;5;21;01mmatplotlib\u001b[39;00m\u001b[38;5;21;01m.\u001b[39;00m\u001b[38;5;21;01mpyplot\u001b[39;00m \u001b[38;5;28;01mas\u001b[39;00m \u001b[38;5;21;01mplt\u001b[39;00m\n\u001b[0;32m      5\u001b[0m \u001b[38;5;66;03m# Guardar métricas en un diccionario\u001b[39;00m\n\u001b[0;32m      6\u001b[0m metrics \u001b[38;5;241m=\u001b[39m {\n\u001b[0;32m      7\u001b[0m    \u001b[38;5;124m'\u001b[39m\u001b[38;5;124mModel\u001b[39m\u001b[38;5;124m'\u001b[39m: [\u001b[38;5;124m'\u001b[39m\u001b[38;5;124mLogistic Regression\u001b[39m\u001b[38;5;124m'\u001b[39m, \u001b[38;5;124m'\u001b[39m\u001b[38;5;124mk-NN\u001b[39m\u001b[38;5;124m'\u001b[39m, \u001b[38;5;124m'\u001b[39m\u001b[38;5;124mSVM\u001b[39m\u001b[38;5;124m'\u001b[39m],\n\u001b[1;32m----> 8\u001b[0m    \u001b[38;5;124m'\u001b[39m\u001b[38;5;124mAccuracy\u001b[39m\u001b[38;5;124m'\u001b[39m: [lr_accuracy, \u001b[43mknn_accuracy\u001b[49m, svm_accuracy],\n\u001b[0;32m      9\u001b[0m    \u001b[38;5;124m'\u001b[39m\u001b[38;5;124mPrecision\u001b[39m\u001b[38;5;124m'\u001b[39m: [lr_precision, knn_precision, svm_precision],\n\u001b[0;32m     10\u001b[0m    \u001b[38;5;124m'\u001b[39m\u001b[38;5;124mRecall\u001b[39m\u001b[38;5;124m'\u001b[39m: [lr_recall, knn_recall, svm_recall],\n\u001b[0;32m     11\u001b[0m    \u001b[38;5;124m'\u001b[39m\u001b[38;5;124mF1 Score\u001b[39m\u001b[38;5;124m'\u001b[39m: [lr_f1, knn_f1, svm_f1]\n\u001b[0;32m     12\u001b[0m }\n\u001b[0;32m     14\u001b[0m \u001b[38;5;66;03m# Convertir el diccionario en un DataFrame\u001b[39;00m\n\u001b[0;32m     15\u001b[0m metrics_df \u001b[38;5;241m=\u001b[39m pd\u001b[38;5;241m.\u001b[39mDataFrame(metrics)\n",
      "\u001b[1;31mNameError\u001b[0m: name 'knn_accuracy' is not defined"
     ]
    }
   ],
   "source": [
    " import seaborn as sns\n",
    "import pandas as pd\n",
    "import matplotlib.pyplot as plt\n",
    "\n",
    "# Guardar métricas en un diccionario\n",
    "metrics = {\n",
    "    'Model': ['Logistic Regression', 'k-NN', 'SVM'],\n",
    "    'Accuracy': [lr_accuracy, knn_accuracy, svm_accuracy],\n",
    "    'Precision': [lr_precision, knn_precision, svm_precision],\n",
    "    'Recall': [lr_recall, knn_recall, svm_recall],\n",
    "    'F1 Score': [lr_f1, knn_f1, svm_f1]\n",
    "}\n",
    "\n",
    "# Convertir el diccionario en un DataFrame\n",
    "metrics_df = pd.DataFrame(metrics)\n",
    "\n",
    "# Crear una gráfica de barras con Seaborn para Accuracy\n",
    "plt.figure(figsize=(4, 2))  # Reducir tamaño de la gráfica\n",
    "sns.barplot(x='Model', y='Accuracy', hue='Model', data=metrics_df, palette='viridis', dodge=False)\n",
    "plt.title('Comparación de Accuracy entre Modelos')\n",
    "plt.legend([], [], frameon=False)  # Eliminar leyenda redundante\n",
    "plt.show()\n",
    "\n",
    "# Crear una gráfica de barras para Precision, Recall y F1 Score\n",
    "plt.figure(figsize=(4, 2))  # Reducir tamaño de la gráfica\n",
    "metrics_melted = metrics_df.melt(id_vars='Model', value_vars=['Precision', 'Recall', 'F1 Score'], var_name='Metric', value_name='Score')\n",
    "sns.barplot(x='Model', y='Score', hue='Metric', data=metrics_melted, palette='viridis')\n",
    "plt.title('Comparación de Precision, Recall y F1 Score entre Modelos')\n",
    "plt.show()\n"
   ]
  },
  {
   "cell_type": "markdown",
   "id": "4e624681-687b-4ef1-9c69-3394b582cebd",
   "metadata": {},
   "source": [
    "Ahora, Redimensionamos las imágenes del dataset MNIST a una estructura de 28x28 píxeles con un único canal de color. Esto es esencial para asegurar la compatibilidad con los modelos, que requieren una estructura específica de datos para funcionar correctamente. En términos simples, esto permite que nuestro modelo de inteligencia artificial pueda \"ver\" y procesar las imágenes de manera adecuada.\n",
    "\n",
    "Adicionalmente, Normalizamos las imágenes escalando los valores de los píxeles a un rango de [0, 1]. Esta normalización es crucial porque ayuda a que el modelo de aprendizaje automático converja más rápido y estable durante el entrenamiento, es decir, que se entrene de manera más rápida y eficiente. Además, al mantener los valores en un rango pequeño, evitamos posibles problemas de inestabilidad numérica que podrían afectar el rendimiento del modelo."
   ]
  },
  {
   "cell_type": "markdown",
   "id": "d93f7605-135a-4b07-812e-7b5cd5790c98",
   "metadata": {},
   "source": [
    "##### Metodología"
   ]
  },
  {
   "cell_type": "code",
   "execution_count": null,
   "id": "27cefa5b-d267-40af-afe3-0bfdad7220be",
   "metadata": {},
   "outputs": [],
   "source": []
  },
  {
   "cell_type": "markdown",
   "id": "f2afc507-3c70-45e8-81c6-01dbf076b650",
   "metadata": {},
   "source": [
    "##### Código"
   ]
  },
  {
   "cell_type": "code",
   "execution_count": null,
   "id": "5ac6f1eb-fc04-46ee-bd53-b8db110c05fb",
   "metadata": {},
   "outputs": [],
   "source": []
  },
  {
   "cell_type": "markdown",
   "id": "f948c797-8305-43f4-b1cc-9195afef913b",
   "metadata": {},
   "source": [
    "##### Análisis de Resultados"
   ]
  },
  {
   "cell_type": "markdown",
   "id": "1e66c839-9b0b-498f-9607-afc2f60787bf",
   "metadata": {},
   "source": []
  },
  {
   "cell_type": "markdown",
   "id": "7c88b539-fde6-43f9-80d7-f65ebb9a0d20",
   "metadata": {},
   "source": [
    "##### Metodología"
   ]
  },
  {
   "cell_type": "code",
   "execution_count": null,
   "id": "300bd2b6-0d7a-4ae6-978c-b90d1dbf13c5",
   "metadata": {},
   "outputs": [],
   "source": []
  },
  {
   "cell_type": "markdown",
   "id": "35d6237b-9a84-4dcf-8766-1b54ca4a7459",
   "metadata": {},
   "source": [
    "##### Código"
   ]
  },
  {
   "cell_type": "code",
   "execution_count": null,
   "id": "878f0a43-ae93-4104-b75d-e94ec01ee31c",
   "metadata": {},
   "outputs": [],
   "source": []
  },
  {
   "cell_type": "markdown",
   "id": "dcd3b2f3-3a90-4cc3-8033-b4da8083c803",
   "metadata": {},
   "source": [
    "##### Análisis de Resultados"
   ]
  },
  {
   "cell_type": "code",
   "execution_count": null,
   "id": "a0f9fbac-5a15-4890-abdf-24a0c3b77eb7",
   "metadata": {},
   "outputs": [],
   "source": []
  }
 ],
 "metadata": {
  "kernelspec": {
   "display_name": "Python 3 (ipykernel)",
   "language": "python",
   "name": "python3"
  },
  "language_info": {
   "codemirror_mode": {
    "name": "ipython",
    "version": 3
   },
   "file_extension": ".py",
   "mimetype": "text/x-python",
   "name": "python",
   "nbconvert_exporter": "python",
   "pygments_lexer": "ipython3",
   "version": "3.10.6"
  }
 },
 "nbformat": 4,
 "nbformat_minor": 5
}
