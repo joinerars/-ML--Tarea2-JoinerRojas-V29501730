{
 "cells": [
  {
   "cell_type": "markdown",
   "id": "2a1e8d50-8860-4319-b578-544294a71c2b",
   "metadata": {},
   "source": [
    "# Universidad Central de Venezuela\n",
    "## Facultad de Ciencias\n",
    "### Escuela de Computación\n",
    "#### Aprendizaje Automático\n",
    "\n",
    "**Joiner Rojas V29501730**\n",
    "\n",
    "## Tarea #2 "
   ]
  },
  {
   "cell_type": "markdown",
   "id": "016871b4-6b7a-4b62-8f34-fc39f297ad3b",
   "metadata": {},
   "source": [
    "# 1-B Modelo de clasificación de Operadores"
   ]
  },
  {
   "cell_type": "markdown",
   "id": "c55434fb-8ebf-46e4-adb1-3fa6c23d048f",
   "metadata": {},
   "source": [
    "En esta sección, se detallan los pasos para el preprocesamiento y transformación de los datos, así como la implementación de los modelos de Regresión Logística, k-Vecinos más Cercanos (k-NN) y Máquinas de Soporte Vectorial (SVM)."
   ]
  },
  {
   "cell_type": "markdown",
   "id": "edff5973-63ec-4b7b-9853-767a50b31078",
   "metadata": {},
   "source": [
    "## Carga y Preprocesamiento de los Datos"
   ]
  },
  {
   "cell_type": "markdown",
   "id": "28e06a5a-4dff-4e2d-bb85-42a712f785fb",
   "metadata": {},
   "source": [
    "El primer paso consiste en cargar y preprocesar el dataset. \n",
    "\n",
    "Este Dtaset fue creado por un grupo de 5 estudiantes de la materia. Se realizaron los operadores sobre un canvas fondo negro y los trazos en blanco con stroke entre 2 y 5 para generar varianza"
   ]
  },
  {
   "cell_type": "markdown",
   "id": "765fb6df-ca60-42b4-ac65-366dbd04fcab",
   "metadata": {},
   "source": [
    "### Importación de Librerias "
   ]
  },
  {
   "cell_type": "markdown",
   "id": "7beb325e-8dc7-4b30-942d-6e4af43a51f8",
   "metadata": {},
   "source": [
    "En esta sección, importamos todas las librerías necesarias para trabajar con el dataset MNIST y realizar el preprocesamiento de datos. Las librerías son colecciones de código que nos proporcionan funciones y herramientas útiles. En este caso, utilizamos librerías para manejar datos, crear gráficos, y trabajar con modelos de machine learning."
   ]
  },
  {
   "cell_type": "code",
   "execution_count": 1,
   "id": "5357eca8-104c-4ad1-9415-53bacf36b166",
   "metadata": {},
   "outputs": [],
   "source": [
    "import os\n",
    "from PIL import Image\n",
    "import numpy as np\n",
    "from sklearn.model_selection import train_test_split, GridSearchCV\n",
    "from sklearn.linear_model import LogisticRegression\n",
    "from sklearn.metrics import accuracy_score, precision_score, recall_score, f1_score\n",
    "import matplotlib.pyplot as plt\n",
    "from tensorflow.keras.utils import to_categorical\n",
    "import seaborn as sns\n",
    "import pandas as pd\n",
    "import joblib\n",
    "from sklearn.neighbors import KNeighborsClassifier\n",
    "from sklearn.svm import SVC\n",
    "\n",
    "seed=29501730\n",
    "np.random.seed(seed)"
   ]
  },
  {
   "cell_type": "markdown",
   "id": "e71f25fd-ce99-45fc-81a5-2a0b48efe292",
   "metadata": {},
   "source": [
    "### Carga del Dataset"
   ]
  },
  {
   "cell_type": "markdown",
   "id": "5cc7f260-efac-4f0f-ac08-e79dc98a728c",
   "metadata": {},
   "source": [
    "Primero, necesitamos cargar el dataset, que contiene imágenes de dígitos manuscritos de los operadores. "
   ]
  },
  {
   "cell_type": "code",
   "execution_count": 2,
   "id": "4a92288c-e435-45aa-b2d5-9e96c80d1182",
   "metadata": {},
   "outputs": [
    {
     "name": "stdout",
     "output_type": "stream",
     "text": [
      "c:\\Users\\joine\\OneDrive\\UCV2\\SEMESTRE 2-2024\\ML\\Tareas\\Tarea #2\\[ML]-Tarea2-JoinerRojas-V29501730\\src\\notebooks\\Dataset_Operadores_28x28\n"
     ]
    },
    {
     "name": "stderr",
     "output_type": "stream",
     "text": [
      "Cloning into 'Dataset_Operadores_28x28'...\n",
      "c:\\Users\\joine\\AppData\\Local\\Programs\\Python\\Python310\\lib\\site-packages\\IPython\\core\\magics\\osm.py:417: UserWarning: using dhist requires you to install the `pickleshare` library.\n",
      "  self.shell.db['dhist'] = compress_dhist(dhist)[-100:]\n"
     ]
    },
    {
     "name": "stdout",
     "output_type": "stream",
     "text": [
      "branch 'prueba' set up to track 'origin/prueba'.\n"
     ]
    },
    {
     "name": "stderr",
     "output_type": "stream",
     "text": [
      "Switched to a new branch 'prueba'\n"
     ]
    }
   ],
   "source": [
    "!git clone https://github.com/HandlessCoder/Dataset_Operadores_28x28.git\n",
    "%cd Dataset_Operadores_28x28/\n",
    "!git checkout prueba\n"
   ]
  },
  {
   "cell_type": "code",
   "execution_count": 3,
   "id": "40417da6-af91-4ccd-ba7d-155e72166c67",
   "metadata": {},
   "outputs": [],
   "source": [
    "# Función para cargar imágenes\n",
    "def load_images(root, label):\n",
    "    images = []\n",
    "    labels = []\n",
    "\n",
    "    for filename in os.listdir(root):\n",
    "        img = Image.open(os.path.join(root, filename)).convert(\"L\")\n",
    "        img = img.resize((28, 28))  # Redimensionar las imágenes a 28x28 píxeles\n",
    "        img_np = np.array(img)  # Convertir la imagen a un arreglo de NumPy\n",
    "        images.append(img_np)\n",
    "        labels.append(label)\n",
    "    return np.array(images), np.array(labels)\n",
    "\n",
    "# Definir la ruta donde están las imágenes de operadores\n",
    "root = \"\"\n",
    "\n",
    "# Cargar las imágenes y etiquetas para cada operador\n",
    "img_suma, label_suma = load_images(root + \"Suma\", ord('+'))  # Suma\n",
    "img_resta, label_resta = load_images(root + \"Resta\", ord('-'))  # Resta\n",
    "img_div1, label_div1 = load_images(root + \"Division1\", ord('/'))  # División1 -> /\n",
    "img_div2, label_div2 = load_images(root + \"Division2\", ord('÷'))  # División2 -> ÷\n",
    "img_mult1, label_mult1 = load_images(root + \"Multiplicacion1\", ord('*'))  # Multiplicación1 -> *\n",
    "img_mult2, label_mult2 = load_images(root + \"Multiplicacion2\", ord('×'))  # Multiplicación2 -> ×\n",
    "\n",
    "# Combinar todas las imágenes y etiquetas\n",
    "all_images = np.concatenate([img_suma, img_resta, img_div1, img_div2, img_mult1, img_mult2])\n",
    "all_labels = np.concatenate([label_suma, label_resta, label_div1, label_div2, label_mult1, label_mult2])\n",
    "\n",
    "# Mezclar las imágenes y etiquetas usando la semilla, esto con el objetivo de dividir el dataset de manera random utilizando la cédula como parámetro\n",
    "indices = np.arange(all_images.shape[0])\n",
    "np.random.shuffle(indices)\n",
    "all_images = all_images[indices]\n",
    "all_labels = all_labels[indices]\n",
    "\n",
    "# Dividir los datos en conjuntos de entrenamiento y prueba (80% entrenamiento, 20% prueba), estos porcentajes de división\n",
    "# son un criterio heredado de la asignatura Minería de Datos (fue el usado en regresión lineal)\n",
    "trainImages, testImages, trainLabels, testLabels = train_test_split(\n",
    "    all_images, all_labels, test_size=0.2, random_state=seed\n",
    ")\n",
    "\n"
   ]
  },
  {
   "cell_type": "markdown",
   "id": "7bb0d502-d990-46f4-b1ae-c3f0b6d9da0b",
   "metadata": {},
   "source": [
    "### Preprocesamiento y exploración"
   ]
  },
  {
   "cell_type": "code",
   "execution_count": 4,
   "id": "70c9458a-5ba5-4688-bb40-73feb956229c",
   "metadata": {},
   "outputs": [
    {
     "data": {
      "image/png": "[encoded data removed]",
      "text/plain": [
       "<Figure size 1000x300 with 5 Axes>"
      ]
     },
     "metadata": {},
     "output_type": "display_data"
    }
   ],
   "source": [
    "\n",
    "# Redimensionar y normalizar las imágenes\n",
    "trainImages = trainImages.reshape((trainImages.shape[0], 28 * 28)).astype('float32') / 255\n",
    "testImages = testImages.reshape((testImages.shape[0], 28 * 28)).astype('float32') / 255\n",
    "\n",
    "# Convertir las etiquetas a categorías\n",
    "trainLabels = to_categorical(trainLabels)\n",
    "testLabels = to_categorical(testLabels)\n",
    "\n",
    "# Convertir las etiquetas de vuelta a su formato original\n",
    "trainLabels = np.argmax(trainLabels, axis=1)\n",
    "testLabels = np.argmax(testLabels, axis=1)\n",
    "\n",
    "# Mostrar algunas imágenes de entrenamiento\n",
    "fig, axes = plt.subplots(1, 5, figsize=(10, 3))\n",
    "for i, ax in enumerate(axes):\n",
    "    ax.imshow(trainImages[i].reshape(28, 28), cmap='gray')\n",
    "    ax.set_title(f\"Etiqueta: {trainLabels[i]}\")\n",
    "    ax.axis('off')\n",
    "plt.show()"
   ]
  },
  {
   "cell_type": "markdown",
   "id": "a8223554-4930-4f20-9c80-bae22c391971",
   "metadata": {},
   "source": [
    "Hemos completado el preprocesamiento del dataset, transformando nuestras imágenes y etiquetas para prepararlas adecuadamente para su uso en modelos de machine learning."
   ]
  },
  {
   "cell_type": "markdown",
   "id": "e88983e5-ecd1-49ff-adaa-dae8cb94e740",
   "metadata": {},
   "source": [
    "## Implementación de Modelos\n"
   ]
  },
  {
   "cell_type": "markdown",
   "id": "be346666-0f5a-478f-82bb-36557ac4f001",
   "metadata": {},
   "source": [
    "En esta sección se implementan tres modelos de clasificación diferentes: Regresión Logística, k-Vecinos más Cercanos (k-NN), y Máquinas de Soporte Vectorial (SVM). Para cada modelo, se ajustan los hiperparámetros utilizando `GridSearchCV` y se evalúa el rendimiento."
   ]
  },
  {
   "cell_type": "markdown",
   "id": "9a9cf1ef-936d-45bc-8909-0e357d35c82d",
   "metadata": {},
   "source": [
    "### Regresión Logística"
   ]
  },
  {
   "cell_type": "markdown",
   "id": "bdb488b8-1f7d-40e5-b02b-5617653edd84",
   "metadata": {},
   "source": [
    "La regresión logística es un modelo de clasificación que se utiliza para predecir una variable categórica. En nuestro caso, usaremos la regresión logística para predecir qué operador está en una imagen del dataset."
   ]
  },
  {
   "cell_type": "markdown",
   "id": "88d7f5a7-0a7f-4bc3-aa9d-f3535780bb0f",
   "metadata": {},
   "source": [
    "#### Búsqueda de Hiperparámetros "
   ]
  },
  {
   "cell_type": "code",
   "execution_count": 5,
   "id": "c938e13c-e134-4656-8a12-ae434ca853fd",
   "metadata": {},
   "outputs": [
    {
     "name": "stdout",
     "output_type": "stream",
     "text": [
      "==============================\n",
      "Resultados obtenidos:\n",
      "==============================\n",
      "Hiperparámetros encontrados: {'C': 1, 'penalty': 'l2', 'solver': 'lbfgs'}\n",
      "\n",
      "Métricas del modelo:\n",
      "Precisión (Accuracy): 91.60%\n",
      "==============================\n"
     ]
    }
   ],
   "source": [
    "# Definir el modelo y los hiperparámetros a ajustar\n",
    "param_grid_LR = {\n",
    "    'C': [0.001, 0.01, 0.1, 1, 10, 100],\n",
    "    'penalty': ['l2'],\n",
    "    'solver': ['lbfgs', 'saga']\n",
    "}\n",
    "\n",
    "# Realizar la búsqueda de hiperparámetros con validación cruzada\n",
    "grid_search_LR = GridSearchCV(LogisticRegression(max_iter=500), param_grid_LR, cv=5, scoring='accuracy', n_jobs=-1)\n",
    "grid_search_LR.fit(trainImages, trainLabels)\n",
    "\n",
    "# Resultados de la búsqueda de hiperparámetros\n",
    "print(\"=\" * 30)\n",
    "print(\"Resultados obtenidos:\")\n",
    "print(\"=\" * 30)\n",
    "print(f\"Hiperparámetros encontrados: {grid_search_LR.best_params_}\")\n",
    "print(\"\\nMétricas del modelo:\")\n",
    "print(f\"Precisión (Accuracy): {grid_search_LR.best_score_ * 100:.2f}%\")\n",
    "print(\"=\" * 30)\n"
   ]
  },
  {
   "cell_type": "markdown",
   "id": "060fb7dd-79c0-46ea-bdbd-ebe5f27086d6",
   "metadata": {},
   "source": [
    "#### Evaluación del modelo"
   ]
  },
  {
   "cell_type": "code",
   "execution_count": 6,
   "id": "1917b1ae-e0db-445d-b219-553acc500ac8",
   "metadata": {},
   "outputs": [
    {
     "name": "stdout",
     "output_type": "stream",
     "text": [
      "Precisión del modelo en el conjunto de prueba (accuracy): 89.60%\n",
      "Exactitud (Precision): 90.21%\n",
      "Recall: 89.60%\n",
      "F1 Score: 89.70%\n"
     ]
    }
   ],
   "source": [
    "# Evaluar el mejor modelo en el conjunto de prueba\n",
    "best_model_LR = grid_search_LR.best_estimator_\n",
    "lr_predictions = best_model_LR.predict(testImages)\n",
    "\n",
    "lr_accuracy = accuracy_score(testLabels, lr_predictions)\n",
    "lr_precision = precision_score(testLabels, lr_predictions, average='weighted')\n",
    "lr_recall = recall_score(testLabels, lr_predictions, average='weighted')\n",
    "lr_f1 = f1_score(testLabels, lr_predictions, average='weighted')\n",
    "\n",
    "print(f\"Precisión del modelo en el conjunto de prueba (accuracy): {lr_accuracy * 100:.2f}%\")\n",
    "print(f\"Exactitud (Precision): {lr_precision * 100:.2f}%\")\n",
    "print(f\"Recall: {lr_recall * 100:.2f}%\")\n",
    "print(f\"F1 Score: {lr_f1 * 100:.2f}%\")\n"
   ]
  },
  {
   "cell_type": "markdown",
   "id": "05f62323-a44f-4916-ad79-3892b1a75817",
   "metadata": {},
   "source": [
    "El modelo refleja una alta proporción de predicciones correctas. Es  Muy preciso en las predicciones positivas, minimizando falsos positivos. Identifica correctamente la mayoría de las instancias positivas. Buen equilibrio entre exactitud y sensibilidad, confirmando su robustez."
   ]
  },
  {
   "cell_type": "markdown",
   "id": "4895c785-6a55-4c2f-b4d3-daa767017a83",
   "metadata": {},
   "source": [
    "### K-Vecinos más Cercanos (k-NN)"
   ]
  },
  {
   "cell_type": "markdown",
   "id": "cb14774e-6b62-437f-b7d8-4443fe567fff",
   "metadata": {},
   "source": [
    "k-NN clasifica un dato basándose en los 'k' puntos más cercanos en el conjunto de datos.'k' es el número de vecinos a considerar."
   ]
  },
  {
   "cell_type": "markdown",
   "id": "649d39ac-afec-47f8-b952-1c17f5e129f3",
   "metadata": {},
   "source": [
    "##### ¿Cómo Funciona? "
   ]
  },
  {
   "cell_type": "markdown",
   "id": "b0f1260b-2f03-4191-a575-e6e9450b080e",
   "metadata": {},
   "source": [
    "Calcula la distancia entre el punto nuevo y todos los puntos del conjunto de entrenamiento.Selecciona los 'k' puntos más cercanos.Asigna la clase más común entre estos 'k' vecinos al punto nuevo."
   ]
  },
  {
   "cell_type": "markdown",
   "id": "719b0a0d-f584-45be-ab78-44ecd2dfa779",
   "metadata": {},
   "source": [
    "#### Búsqueda de Hiperparámetros "
   ]
  },
  {
   "cell_type": "code",
   "execution_count": 7,
   "id": "7d95ee90-3f27-4b93-a9dd-e8203a2a5c63",
   "metadata": {},
   "outputs": [
    {
     "name": "stdout",
     "output_type": "stream",
     "text": [
      "==============================\n",
      "Resultados obtenidos:\n",
      "==============================\n",
      "Hiperparámetros encontrados: {'metric': 'euclidean', 'n_neighbors': 3, 'weights': 'uniform'}\n",
      "\n",
      "Métricas del modelo:\n",
      "Precisión (Accuracy): 92.40%\n",
      "==============================\n"
     ]
    }
   ],
   "source": [
    "# Definir el modelo y los hiperparámetros a ajustar\n",
    "param_grid_kNN = {\n",
    "    'n_neighbors': [3, 5, 7, 9],  # Prueba diferentes valores de k\n",
    "    'weights': ['uniform', 'distance'],\n",
    "    'metric': ['euclidean', 'manhattan']\n",
    "}\n",
    "\n",
    "# Realizar la búsqueda de hiperparámetros con validación cruzada\n",
    "grid_search_kNN = GridSearchCV(KNeighborsClassifier(), param_grid_kNN, cv=5, scoring='accuracy', n_jobs=-1)\n",
    "grid_search_kNN.fit(trainImages, trainLabels)\n",
    "\n",
    "# Resultados de la búsqueda de hiperparámetros\n",
    "print(\"=\" * 30)\n",
    "print(\"Resultados obtenidos:\")\n",
    "print(\"=\" * 30)\n",
    "print(f\"Hiperparámetros encontrados: {grid_search_kNN.best_params_}\")\n",
    "print(\"\\nMétricas del modelo:\")\n",
    "print(f\"Precisión (Accuracy): {grid_search_kNN.best_score_ * 100:.2f}%\")\n",
    "print(\"=\" * 30)\n",
    "\n",
    "\n"
   ]
  },
  {
   "cell_type": "markdown",
   "id": "ed31b7d9-fd40-45de-8019-88a6abf24949",
   "metadata": {},
   "source": [
    "#### Evaluación del modelo"
   ]
  },
  {
   "cell_type": "code",
   "execution_count": 8,
   "id": "3e191cc1-89e9-4eaa-ae31-2ed3ac9456e9",
   "metadata": {},
   "outputs": [
    {
     "name": "stdout",
     "output_type": "stream",
     "text": [
      "Precisión del modelo k-NN en el conjunto de prueba: 89.60%\n",
      "Precisión (Precision): 90.37%\n",
      "Recall: 89.60%\n",
      "F1 Score: 89.50%\n"
     ]
    }
   ],
   "source": [
    "# Evaluar el mejor modelo en el conjunto de prueba\n",
    "best_model_kNN = grid_search_kNN.best_estimator_\n",
    "knn_predictions = best_model_kNN.predict(testImages)\n",
    "\n",
    "knn_accuracy = accuracy_score(testLabels, knn_predictions)\n",
    "knn_precision = precision_score(testLabels, knn_predictions, average='weighted')\n",
    "knn_recall = recall_score(testLabels, knn_predictions, average='weighted')\n",
    "knn_f1 = f1_score(testLabels, knn_predictions, average='weighted')\n",
    "\n",
    "print(f\"Precisión del modelo k-NN en el conjunto de prueba: {knn_accuracy * 100:.2f}%\")\n",
    "print(f\"Precisión (Precision): {knn_precision * 100:.2f}%\")\n",
    "print(f\"Recall: {knn_recall * 100:.2f}%\")\n",
    "print(f\"F1 Score: {knn_f1 * 100:.2f}%\")\n"
   ]
  },
  {
   "cell_type": "code",
   "execution_count": null,
   "id": "e693d968-db22-42b6-8375-380ee3ff08cc",
   "metadata": {},
   "outputs": [],
   "source": []
  },
  {
   "cell_type": "markdown",
   "id": "46ef95ea-babf-484c-a0ce-31dc35015853",
   "metadata": {},
   "source": [
    "### Máquinas de Soporte Vectorial"
   ]
  },
  {
   "cell_type": "markdown",
   "id": "c39976c6-1cb2-4850-a206-0b47ed3cef21",
   "metadata": {},
   "source": [
    "Las Máquinas de Soporte Vectorial (SVM) son algoritmos de machine learning utilizados para la clasificación y regresión. Su objetivo principal es encontrar el hiperplano que mejor separa las diferentes clases en los datos."
   ]
  },
  {
   "cell_type": "markdown",
   "id": "4d85151c-1646-4b43-90f6-8e3c2066baed",
   "metadata": {},
   "source": [
    "#### Búsqueda de Hiperparámetros "
   ]
  },
  {
   "cell_type": "code",
   "execution_count": 9,
   "id": "fd31b46e-97dd-49ed-9425-7719fb6c4bc7",
   "metadata": {},
   "outputs": [
    {
     "name": "stdout",
     "output_type": "stream",
     "text": [
      "==============================\n",
      "Resultados obtenidos:\n",
      "==============================\n",
      "Hiperparámetros encontrados: {'C': 10, 'gamma': 'scale', 'kernel': 'rbf'}\n",
      "\n",
      "Métricas del modelo:\n",
      "Precisión (Accuracy): 95.20%\n",
      "==============================\n"
     ]
    }
   ],
   "source": [
    "# Ajuste de hiperparámetros para Máquinas de Soporte Vectorial (SVM)\n",
    "param_grid_SVM = {\n",
    "    'C': [0.1, 1, 10],  # Puedes ajustar estos valores según sea necesario\n",
    "    'kernel': ['linear', 'rbf', 'poly'],  # Añadir 'poly' para mayor exhaustividad\n",
    "    'gamma': ['scale', 'auto']  # Añadir 'auto' para mayor exhaustividad\n",
    "}\n",
    "\n",
    "# Realizar la búsqueda de hiperparámetros con validación cruzada\n",
    "grid_search_SVM = GridSearchCV(SVC(), param_grid_SVM, cv=5, scoring='accuracy', n_jobs=-1)\n",
    "grid_search_SVM.fit(trainImages, trainLabels)\n",
    "\n",
    "# Resultados de la búsqueda de hiperparámetros\n",
    "print(\"=\" * 30)\n",
    "print(\"Resultados obtenidos:\")\n",
    "print(\"=\" * 30)\n",
    "print(f\"Hiperparámetros encontrados: {grid_search_SVM.best_params_}\")\n",
    "print(\"\\nMétricas del modelo:\")\n",
    "print(f\"Precisión (Accuracy): {grid_search_SVM.best_score_ * 100:.2f}%\")\n",
    "print(\"=\" * 30)\n",
    "\n"
   ]
  },
  {
   "cell_type": "markdown",
   "id": "3ed081cc-6977-48e1-8323-176bd7be9724",
   "metadata": {},
   "source": [
    "#### Evaluación del modelo"
   ]
  },
  {
   "cell_type": "code",
   "execution_count": 10,
   "id": "5d62427a-ba80-4e86-be63-b77a4993e4c6",
   "metadata": {},
   "outputs": [
    {
     "name": "stdout",
     "output_type": "stream",
     "text": [
      "Mejores hiperparámetros para SVM: {'C': 10, 'gamma': 'scale', 'kernel': 'rbf'}\n",
      "Precisión del modelo SVM en el conjunto de prueba: 93.60%\n",
      "Precisión (Precision): 93.93%\n",
      "Recall: 93.60%\n",
      "F1 Score: 93.64%\n"
     ]
    }
   ],
   "source": [
    "# Evaluar el mejor modelo SVM\n",
    "best_model_SVM = grid_search_SVM.best_estimator_\n",
    "svm_predictions = best_model_SVM.predict(testImages)\n",
    "\n",
    "svm_accuracy = accuracy_score(testLabels, svm_predictions)\n",
    "svm_precision = precision_score(testLabels, svm_predictions, average='weighted')\n",
    "svm_recall = recall_score(testLabels, svm_predictions, average='weighted')\n",
    "svm_f1 = f1_score(testLabels, svm_predictions, average='weighted')\n",
    "\n",
    "print(f\"Mejores hiperparámetros para SVM: {grid_search_SVM.best_params_}\")\n",
    "print(f\"Precisión del modelo SVM en el conjunto de prueba: {svm_accuracy * 100:.2f}%\")\n",
    "print(f\"Precisión (Precision): {svm_precision * 100:.2f}%\")\n",
    "print(f\"Recall: {svm_recall * 100:.2f}%\")\n",
    "print(f\"F1 Score: {svm_f1 * 100:.2f}%\")"
   ]
  },
  {
   "cell_type": "code",
   "execution_count": null,
   "id": "2a997827-85f7-441e-b632-4df4068a2c65",
   "metadata": {},
   "outputs": [],
   "source": []
  },
  {
   "cell_type": "markdown",
   "id": "a4d79394-93ff-411d-a10e-be376d46b990",
   "metadata": {},
   "source": [
    "## Seleccion del Modelo más eficiente"
   ]
  },
  {
   "cell_type": "code",
   "execution_count": null,
   "id": "ff171084-c700-4da9-8802-995c74d75c36",
   "metadata": {},
   "outputs": [
    {
     "name": "stdout",
     "output_type": "stream",
     "text": [
      "                 Model  Accuracy  Precision  Recall  F1 Score\n",
      "0  Logistic Regression     0.896   0.902114   0.896  0.897017\n",
      "1                 k-NN     0.896   0.903665   0.896  0.895021\n",
      "2                  SVM     0.936   0.939349   0.936  0.936411\n"
     ]
    },
    {
     "data": {
      "image/png": "[encoded data removed]",
      "text/plain": [
       "<Figure size 400x200 with 1 Axes>"
      ]
     },
     "metadata": {},
     "output_type": "display_data"
    },
    {
     "data": {
      "image/png": "[encoded data removed]",
      "text/plain": [
       "<Figure size 400x200 with 1 Axes>"
      ]
     },
     "metadata": {},
     "output_type": "display_data"
    }
   ],
   "source": [
    "# Guardar métricas en un diccionario\n",
    "metrics = {\n",
    "    'Model': ['Logistic Regression', 'k-NN', 'SVM'],\n",
    "    'Accuracy': [lr_accuracy, knn_accuracy, svm_accuracy],\n",
    "    'Precision': [lr_precision, knn_precision, svm_precision],\n",
    "    'Recall': [lr_recall, knn_recall, svm_recall],\n",
    "    'F1 Score': [lr_f1, knn_f1, svm_f1]\n",
    "}\n",
    "\n",
    "# Convertir el diccionario en un DataFrame\n",
    "metrics_df = pd.DataFrame(metrics)\n",
    "\n",
    "# Mostrar la tabla\n",
    "print(metrics_df)\n",
    "\n",
    "# Gráfica de barras con Seaborn para Accuracy\n",
    "plt.figure(figsize=(4, 2))  # Reducir tamaño de la gráfica\n",
    "sns.barplot(x='Model', y='Accuracy', hue='Model', data=metrics_df, palette='viridis', dodge=False)\n",
    "plt.title('Comparación de Accuracy entre Modelos')\n",
    "plt.legend([], [], frameon=False)  # Eliminar leyenda redundante\n",
    "plt.show()\n",
    "\n",
    "# Gráfica de barras para Precision, Recall y F1 Score\n",
    "plt.figure(figsize=(4, 2))  # Reducir tamaño de la gráfica\n",
    "metrics_melted = metrics_df.melt(id_vars='Model', value_vars=['Precision', 'Recall', 'F1 Score'], var_name='Metric', value_name='Score')\n",
    "sns.barplot(x='Model', y='Score', hue='Metric', data=metrics_melted, palette='viridis')\n",
    "plt.title('Comparación de Precision, Recall y F1 Score entre Modelos')\n",
    "plt.show()"
   ]
  },
  {
   "cell_type": "markdown",
   "id": "2cfc9d43",
   "metadata": {},
   "source": [
    "En base a los resultados el modelo SVM es el mejor a usar en este caso. Esto se debe a que SVM tiene la mayor Accuracy (0.936), Precision (0.939349), Recall (0.936) y F1 Score (0.936411) en comparación con Logistic Regression y k-NN. Estas métricas indican que SVM tiene un mejor rendimiento general en términos de precisión y capacidad para identificar correctamente las clases positivas y negativas.\n",
    "\n"
   ]
  },
  {
   "cell_type": "markdown",
   "id": "9b4915fc-dfa6-49a9-a116-6da75ea53717",
   "metadata": {},
   "source": [
    "## Exportar el Modelo"
   ]
  },
  {
   "cell_type": "code",
   "execution_count": 30,
   "id": "80d424ab-72a8-4643-b430-5a82e169dd3a",
   "metadata": {},
   "outputs": [
    {
     "name": "stdout",
     "output_type": "stream",
     "text": [
      "Modelo guardado en ..\\..\\models\\output\\OperatorsModel.joblib\n"
     ]
    }
   ],
   "source": [
    "# Supongamos que has decidido usar el modelo SVM como modelo definitivo\n",
    "final_model = best_model_SVM\n",
    "# Ruta relativa para guardar el modelo directamente en \"models/output\"\n",
    "ruta_modelo = os.path.join('..', '..', 'models', 'output', 'OperatorsModel.joblib')\n",
    "\n",
    "\n",
    "# Guardar el modelo en un archivo\n",
    "joblib.dump(final_model, ruta_modelo)\n",
    "\n",
    "print(f\"Modelo guardado en {ruta_modelo}\")\n"
   ]
  },
  {
   "cell_type": "code",
   "execution_count": null,
   "id": "4c51a1cf-adb6-4700-908f-430b3f47e92c",
   "metadata": {},
   "outputs": [],
   "source": []
  }
 ],
 "metadata": {
  "kernelspec": {
   "display_name": "Python 3",
   "language": "python",
   "name": "python3"
  },
  "language_info": {
   "codemirror_mode": {
    "name": "ipython",
    "version": 3
   },
   "file_extension": ".py",
   "mimetype": "text/x-python",
   "name": "python",
   "nbconvert_exporter": "python",
   "pygments_lexer": "ipython3",
   "version": "3.10.6"
  }
 },
 "nbformat": 4,
 "nbformat_minor": 5
}
