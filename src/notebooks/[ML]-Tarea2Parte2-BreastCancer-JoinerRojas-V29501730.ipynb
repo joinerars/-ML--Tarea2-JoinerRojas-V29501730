{
 "cells": [
  {
   "cell_type": "markdown",
   "id": "ee54185e-6279-44eb-9ca9-8bfbdc5b78c9",
   "metadata": {},
   "source": [
    "# Universidad Central de Venezuela\n",
    "## Facultad de Ciencias\n",
    "### Escuela de Computación\n",
    "#### Aprendizaje Automático\n",
    "\n",
    "**Joiner Rojas V29501730**\n",
    "\n",
    "#### Tarea #2 - Parte  REGRESIÓN LOGÍTICA/CLASIFICACIÓN  (OPCIÓN B)"
   ]
  },
  {
   "cell_type": "markdown",
   "id": "aab4d800-4acf-451c-94e9-fedb7b0dbe68",
   "metadata": {},
   "source": [
    "# Breast Cancer Wisconsin- Introducción "
   ]
  },
  {
   "cell_type": "markdown",
   "id": "01350109-12d4-4ac6-9a64-cc7a9a86cbbd",
   "metadata": {},
   "source": [
    "En este notebook, abordaremos un problema de clasificación utilizando el conjunto de datos Breast Cancer Wisconsin disponible en Scikit-learn. El objetivo es predecir si un tumor es maligno (M) o benigno (B) basándonos en 30 características numéricas relacionadas con las propiedades de los núcleos celulares.\n",
    "\n",
    "Además, exploraremos cómo el balance de clases afecta al modelo, utilizaremos métricas como la Curva ROC, F1-score y AUC para evaluar el rendimiento del modelo, y explicaremos estos conceptos de manera detallada."
   ]
  },
  {
   "cell_type": "markdown",
   "id": "1a1e50f3-cad3-4fb5-be8b-300c411bb7bb",
   "metadata": {
    "jp-MarkdownHeadingCollapsed": true
   },
   "source": [
    "## Carga del Dataset Y Exploración de Datos"
   ]
  },
  {
   "cell_type": "markdown",
   "id": "a69b5843-4c10-44d8-aabe-9b915ae519d6",
   "metadata": {},
   "source": [
    "### Importación de Librerías"
   ]
  },
  {
   "cell_type": "code",
   "execution_count": 20,
   "id": "3b27cf61-0b5e-4746-b90b-08550854dc26",
   "metadata": {},
   "outputs": [],
   "source": [
    "import numpy as np\n",
    "import pandas as pd\n",
    "import matplotlib.pyplot as plt\n",
    "import seaborn as sns\n",
    "from IPython.display import display\n",
    "\n",
    "# Scikit-learn para el modelo y evaluación\n",
    "from sklearn.datasets import load_breast_cancer\n",
    "from sklearn.model_selection import train_test_split\n",
    "from sklearn.linear_model import LogisticRegression\n",
    "from sklearn.metrics import (\n",
    "    accuracy_score, confusion_matrix, classification_report,\n",
    "    roc_curve, roc_auc_score, f1_score\n",
    ")\n",
    "from sklearn.preprocessing import StandardScaler\n",
    "from sklearn.model_selection import GridSearchCV\n",
    "\n",
    "\n",
    "\n"
   ]
  },
  {
   "cell_type": "markdown",
   "id": "42e8a7c5-84fb-464e-a2a9-d9a6694cc101",
   "metadata": {},
   "source": [
    "### Carga del Dataset"
   ]
  },
  {
   "cell_type": "code",
   "execution_count": 21,
   "id": "db669492-42f5-4e52-b9f5-5efef7a6dc7a",
   "metadata": {},
   "outputs": [
    {
     "data": {
      "text/html": [
       "<style type=\"text/css\">\n",
       "#T_6fee8_row0_col1, #T_6fee8_row1_col4, #T_6fee8_row1_col5, #T_6fee8_row1_col6, #T_6fee8_row1_col7, #T_6fee8_row1_col9, #T_6fee8_row1_col11, #T_6fee8_row1_col12, #T_6fee8_row1_col14, #T_6fee8_row1_col15, #T_6fee8_row1_col16, #T_6fee8_row1_col17, #T_6fee8_row1_col18, #T_6fee8_row1_col19, #T_6fee8_row1_col24, #T_6fee8_row1_col25, #T_6fee8_row1_col26, #T_6fee8_row3_col0, #T_6fee8_row3_col2, #T_6fee8_row3_col3, #T_6fee8_row3_col10, #T_6fee8_row3_col13, #T_6fee8_row3_col20, #T_6fee8_row3_col22, #T_6fee8_row3_col23, #T_6fee8_row4_col8, #T_6fee8_row4_col21, #T_6fee8_row4_col27, #T_6fee8_row4_col28, #T_6fee8_row4_col29 {\n",
       "  background-color: pink;\n",
       "}\n",
       "#T_6fee8_row0_col6, #T_6fee8_row0_col7, #T_6fee8_row0_col10, #T_6fee8_row0_col12, #T_6fee8_row0_col13, #T_6fee8_row0_col20, #T_6fee8_row0_col22, #T_6fee8_row0_col23, #T_6fee8_row0_col26, #T_6fee8_row0_col27, #T_6fee8_row1_col0, #T_6fee8_row1_col3, #T_6fee8_row2_col1, #T_6fee8_row2_col17, #T_6fee8_row3_col4, #T_6fee8_row3_col5, #T_6fee8_row3_col8, #T_6fee8_row3_col9, #T_6fee8_row3_col11, #T_6fee8_row3_col15, #T_6fee8_row3_col18, #T_6fee8_row3_col19, #T_6fee8_row3_col21, #T_6fee8_row3_col24, #T_6fee8_row3_col25, #T_6fee8_row3_col28, #T_6fee8_row3_col29, #T_6fee8_row4_col2, #T_6fee8_row4_col14, #T_6fee8_row4_col16 {\n",
       "  background-color: lightgreen;\n",
       "}\n",
       "#T_6fee8_row0_col30, #T_6fee8_row1_col30, #T_6fee8_row2_col30, #T_6fee8_row3_col30, #T_6fee8_row4_col30 {\n",
       "  background-color: lightgreen;\n",
       "  background-color: pink;\n",
       "}\n",
       "</style>\n",
       "<table id=\"T_6fee8\">\n",
       "  <caption>Primeras 5 Filas del Dataset</caption>\n",
       "  <thead>\n",
       "    <tr>\n",
       "      <th class=\"blank level0\" >&nbsp;</th>\n",
       "      <th id=\"T_6fee8_level0_col0\" class=\"col_heading level0 col0\" >mean radius</th>\n",
       "      <th id=\"T_6fee8_level0_col1\" class=\"col_heading level0 col1\" >mean texture</th>\n",
       "      <th id=\"T_6fee8_level0_col2\" class=\"col_heading level0 col2\" >mean perimeter</th>\n",
       "      <th id=\"T_6fee8_level0_col3\" class=\"col_heading level0 col3\" >mean area</th>\n",
       "      <th id=\"T_6fee8_level0_col4\" class=\"col_heading level0 col4\" >mean smoothness</th>\n",
       "      <th id=\"T_6fee8_level0_col5\" class=\"col_heading level0 col5\" >mean compactness</th>\n",
       "      <th id=\"T_6fee8_level0_col6\" class=\"col_heading level0 col6\" >mean concavity</th>\n",
       "      <th id=\"T_6fee8_level0_col7\" class=\"col_heading level0 col7\" >mean concave points</th>\n",
       "      <th id=\"T_6fee8_level0_col8\" class=\"col_heading level0 col8\" >mean symmetry</th>\n",
       "      <th id=\"T_6fee8_level0_col9\" class=\"col_heading level0 col9\" >mean fractal dimension</th>\n",
       "      <th id=\"T_6fee8_level0_col10\" class=\"col_heading level0 col10\" >radius error</th>\n",
       "      <th id=\"T_6fee8_level0_col11\" class=\"col_heading level0 col11\" >texture error</th>\n",
       "      <th id=\"T_6fee8_level0_col12\" class=\"col_heading level0 col12\" >perimeter error</th>\n",
       "      <th id=\"T_6fee8_level0_col13\" class=\"col_heading level0 col13\" >area error</th>\n",
       "      <th id=\"T_6fee8_level0_col14\" class=\"col_heading level0 col14\" >smoothness error</th>\n",
       "      <th id=\"T_6fee8_level0_col15\" class=\"col_heading level0 col15\" >compactness error</th>\n",
       "      <th id=\"T_6fee8_level0_col16\" class=\"col_heading level0 col16\" >concavity error</th>\n",
       "      <th id=\"T_6fee8_level0_col17\" class=\"col_heading level0 col17\" >concave points error</th>\n",
       "      <th id=\"T_6fee8_level0_col18\" class=\"col_heading level0 col18\" >symmetry error</th>\n",
       "      <th id=\"T_6fee8_level0_col19\" class=\"col_heading level0 col19\" >fractal dimension error</th>\n",
       "      <th id=\"T_6fee8_level0_col20\" class=\"col_heading level0 col20\" >worst radius</th>\n",
       "      <th id=\"T_6fee8_level0_col21\" class=\"col_heading level0 col21\" >worst texture</th>\n",
       "      <th id=\"T_6fee8_level0_col22\" class=\"col_heading level0 col22\" >worst perimeter</th>\n",
       "      <th id=\"T_6fee8_level0_col23\" class=\"col_heading level0 col23\" >worst area</th>\n",
       "      <th id=\"T_6fee8_level0_col24\" class=\"col_heading level0 col24\" >worst smoothness</th>\n",
       "      <th id=\"T_6fee8_level0_col25\" class=\"col_heading level0 col25\" >worst compactness</th>\n",
       "      <th id=\"T_6fee8_level0_col26\" class=\"col_heading level0 col26\" >worst concavity</th>\n",
       "      <th id=\"T_6fee8_level0_col27\" class=\"col_heading level0 col27\" >worst concave points</th>\n",
       "      <th id=\"T_6fee8_level0_col28\" class=\"col_heading level0 col28\" >worst symmetry</th>\n",
       "      <th id=\"T_6fee8_level0_col29\" class=\"col_heading level0 col29\" >worst fractal dimension</th>\n",
       "      <th id=\"T_6fee8_level0_col30\" class=\"col_heading level0 col30\" >target</th>\n",
       "    </tr>\n",
       "  </thead>\n",
       "  <tbody>\n",
       "    <tr>\n",
       "      <th id=\"T_6fee8_level0_row0\" class=\"row_heading level0 row0\" >0</th>\n",
       "      <td id=\"T_6fee8_row0_col0\" class=\"data row0 col0\" >17.99</td>\n",
       "      <td id=\"T_6fee8_row0_col1\" class=\"data row0 col1\" >10.38</td>\n",
       "      <td id=\"T_6fee8_row0_col2\" class=\"data row0 col2\" >122.80</td>\n",
       "      <td id=\"T_6fee8_row0_col3\" class=\"data row0 col3\" >1001.00</td>\n",
       "      <td id=\"T_6fee8_row0_col4\" class=\"data row0 col4\" >0.12</td>\n",
       "      <td id=\"T_6fee8_row0_col5\" class=\"data row0 col5\" >0.28</td>\n",
       "      <td id=\"T_6fee8_row0_col6\" class=\"data row0 col6\" >0.30</td>\n",
       "      <td id=\"T_6fee8_row0_col7\" class=\"data row0 col7\" >0.15</td>\n",
       "      <td id=\"T_6fee8_row0_col8\" class=\"data row0 col8\" >0.24</td>\n",
       "      <td id=\"T_6fee8_row0_col9\" class=\"data row0 col9\" >0.08</td>\n",
       "      <td id=\"T_6fee8_row0_col10\" class=\"data row0 col10\" >1.09</td>\n",
       "      <td id=\"T_6fee8_row0_col11\" class=\"data row0 col11\" >0.91</td>\n",
       "      <td id=\"T_6fee8_row0_col12\" class=\"data row0 col12\" >8.59</td>\n",
       "      <td id=\"T_6fee8_row0_col13\" class=\"data row0 col13\" >153.40</td>\n",
       "      <td id=\"T_6fee8_row0_col14\" class=\"data row0 col14\" >0.01</td>\n",
       "      <td id=\"T_6fee8_row0_col15\" class=\"data row0 col15\" >0.05</td>\n",
       "      <td id=\"T_6fee8_row0_col16\" class=\"data row0 col16\" >0.05</td>\n",
       "      <td id=\"T_6fee8_row0_col17\" class=\"data row0 col17\" >0.02</td>\n",
       "      <td id=\"T_6fee8_row0_col18\" class=\"data row0 col18\" >0.03</td>\n",
       "      <td id=\"T_6fee8_row0_col19\" class=\"data row0 col19\" >0.01</td>\n",
       "      <td id=\"T_6fee8_row0_col20\" class=\"data row0 col20\" >25.38</td>\n",
       "      <td id=\"T_6fee8_row0_col21\" class=\"data row0 col21\" >17.33</td>\n",
       "      <td id=\"T_6fee8_row0_col22\" class=\"data row0 col22\" >184.60</td>\n",
       "      <td id=\"T_6fee8_row0_col23\" class=\"data row0 col23\" >2019.00</td>\n",
       "      <td id=\"T_6fee8_row0_col24\" class=\"data row0 col24\" >0.16</td>\n",
       "      <td id=\"T_6fee8_row0_col25\" class=\"data row0 col25\" >0.67</td>\n",
       "      <td id=\"T_6fee8_row0_col26\" class=\"data row0 col26\" >0.71</td>\n",
       "      <td id=\"T_6fee8_row0_col27\" class=\"data row0 col27\" >0.27</td>\n",
       "      <td id=\"T_6fee8_row0_col28\" class=\"data row0 col28\" >0.46</td>\n",
       "      <td id=\"T_6fee8_row0_col29\" class=\"data row0 col29\" >0.12</td>\n",
       "      <td id=\"T_6fee8_row0_col30\" class=\"data row0 col30\" >0.00</td>\n",
       "    </tr>\n",
       "    <tr>\n",
       "      <th id=\"T_6fee8_level0_row1\" class=\"row_heading level0 row1\" >1</th>\n",
       "      <td id=\"T_6fee8_row1_col0\" class=\"data row1 col0\" >20.57</td>\n",
       "      <td id=\"T_6fee8_row1_col1\" class=\"data row1 col1\" >17.77</td>\n",
       "      <td id=\"T_6fee8_row1_col2\" class=\"data row1 col2\" >132.90</td>\n",
       "      <td id=\"T_6fee8_row1_col3\" class=\"data row1 col3\" >1326.00</td>\n",
       "      <td id=\"T_6fee8_row1_col4\" class=\"data row1 col4\" >0.08</td>\n",
       "      <td id=\"T_6fee8_row1_col5\" class=\"data row1 col5\" >0.08</td>\n",
       "      <td id=\"T_6fee8_row1_col6\" class=\"data row1 col6\" >0.09</td>\n",
       "      <td id=\"T_6fee8_row1_col7\" class=\"data row1 col7\" >0.07</td>\n",
       "      <td id=\"T_6fee8_row1_col8\" class=\"data row1 col8\" >0.18</td>\n",
       "      <td id=\"T_6fee8_row1_col9\" class=\"data row1 col9\" >0.06</td>\n",
       "      <td id=\"T_6fee8_row1_col10\" class=\"data row1 col10\" >0.54</td>\n",
       "      <td id=\"T_6fee8_row1_col11\" class=\"data row1 col11\" >0.73</td>\n",
       "      <td id=\"T_6fee8_row1_col12\" class=\"data row1 col12\" >3.40</td>\n",
       "      <td id=\"T_6fee8_row1_col13\" class=\"data row1 col13\" >74.08</td>\n",
       "      <td id=\"T_6fee8_row1_col14\" class=\"data row1 col14\" >0.01</td>\n",
       "      <td id=\"T_6fee8_row1_col15\" class=\"data row1 col15\" >0.01</td>\n",
       "      <td id=\"T_6fee8_row1_col16\" class=\"data row1 col16\" >0.02</td>\n",
       "      <td id=\"T_6fee8_row1_col17\" class=\"data row1 col17\" >0.01</td>\n",
       "      <td id=\"T_6fee8_row1_col18\" class=\"data row1 col18\" >0.01</td>\n",
       "      <td id=\"T_6fee8_row1_col19\" class=\"data row1 col19\" >0.00</td>\n",
       "      <td id=\"T_6fee8_row1_col20\" class=\"data row1 col20\" >24.99</td>\n",
       "      <td id=\"T_6fee8_row1_col21\" class=\"data row1 col21\" >23.41</td>\n",
       "      <td id=\"T_6fee8_row1_col22\" class=\"data row1 col22\" >158.80</td>\n",
       "      <td id=\"T_6fee8_row1_col23\" class=\"data row1 col23\" >1956.00</td>\n",
       "      <td id=\"T_6fee8_row1_col24\" class=\"data row1 col24\" >0.12</td>\n",
       "      <td id=\"T_6fee8_row1_col25\" class=\"data row1 col25\" >0.19</td>\n",
       "      <td id=\"T_6fee8_row1_col26\" class=\"data row1 col26\" >0.24</td>\n",
       "      <td id=\"T_6fee8_row1_col27\" class=\"data row1 col27\" >0.19</td>\n",
       "      <td id=\"T_6fee8_row1_col28\" class=\"data row1 col28\" >0.28</td>\n",
       "      <td id=\"T_6fee8_row1_col29\" class=\"data row1 col29\" >0.09</td>\n",
       "      <td id=\"T_6fee8_row1_col30\" class=\"data row1 col30\" >0.00</td>\n",
       "    </tr>\n",
       "    <tr>\n",
       "      <th id=\"T_6fee8_level0_row2\" class=\"row_heading level0 row2\" >2</th>\n",
       "      <td id=\"T_6fee8_row2_col0\" class=\"data row2 col0\" >19.69</td>\n",
       "      <td id=\"T_6fee8_row2_col1\" class=\"data row2 col1\" >21.25</td>\n",
       "      <td id=\"T_6fee8_row2_col2\" class=\"data row2 col2\" >130.00</td>\n",
       "      <td id=\"T_6fee8_row2_col3\" class=\"data row2 col3\" >1203.00</td>\n",
       "      <td id=\"T_6fee8_row2_col4\" class=\"data row2 col4\" >0.11</td>\n",
       "      <td id=\"T_6fee8_row2_col5\" class=\"data row2 col5\" >0.16</td>\n",
       "      <td id=\"T_6fee8_row2_col6\" class=\"data row2 col6\" >0.20</td>\n",
       "      <td id=\"T_6fee8_row2_col7\" class=\"data row2 col7\" >0.13</td>\n",
       "      <td id=\"T_6fee8_row2_col8\" class=\"data row2 col8\" >0.21</td>\n",
       "      <td id=\"T_6fee8_row2_col9\" class=\"data row2 col9\" >0.06</td>\n",
       "      <td id=\"T_6fee8_row2_col10\" class=\"data row2 col10\" >0.75</td>\n",
       "      <td id=\"T_6fee8_row2_col11\" class=\"data row2 col11\" >0.79</td>\n",
       "      <td id=\"T_6fee8_row2_col12\" class=\"data row2 col12\" >4.58</td>\n",
       "      <td id=\"T_6fee8_row2_col13\" class=\"data row2 col13\" >94.03</td>\n",
       "      <td id=\"T_6fee8_row2_col14\" class=\"data row2 col14\" >0.01</td>\n",
       "      <td id=\"T_6fee8_row2_col15\" class=\"data row2 col15\" >0.04</td>\n",
       "      <td id=\"T_6fee8_row2_col16\" class=\"data row2 col16\" >0.04</td>\n",
       "      <td id=\"T_6fee8_row2_col17\" class=\"data row2 col17\" >0.02</td>\n",
       "      <td id=\"T_6fee8_row2_col18\" class=\"data row2 col18\" >0.02</td>\n",
       "      <td id=\"T_6fee8_row2_col19\" class=\"data row2 col19\" >0.00</td>\n",
       "      <td id=\"T_6fee8_row2_col20\" class=\"data row2 col20\" >23.57</td>\n",
       "      <td id=\"T_6fee8_row2_col21\" class=\"data row2 col21\" >25.53</td>\n",
       "      <td id=\"T_6fee8_row2_col22\" class=\"data row2 col22\" >152.50</td>\n",
       "      <td id=\"T_6fee8_row2_col23\" class=\"data row2 col23\" >1709.00</td>\n",
       "      <td id=\"T_6fee8_row2_col24\" class=\"data row2 col24\" >0.14</td>\n",
       "      <td id=\"T_6fee8_row2_col25\" class=\"data row2 col25\" >0.42</td>\n",
       "      <td id=\"T_6fee8_row2_col26\" class=\"data row2 col26\" >0.45</td>\n",
       "      <td id=\"T_6fee8_row2_col27\" class=\"data row2 col27\" >0.24</td>\n",
       "      <td id=\"T_6fee8_row2_col28\" class=\"data row2 col28\" >0.36</td>\n",
       "      <td id=\"T_6fee8_row2_col29\" class=\"data row2 col29\" >0.09</td>\n",
       "      <td id=\"T_6fee8_row2_col30\" class=\"data row2 col30\" >0.00</td>\n",
       "    </tr>\n",
       "    <tr>\n",
       "      <th id=\"T_6fee8_level0_row3\" class=\"row_heading level0 row3\" >3</th>\n",
       "      <td id=\"T_6fee8_row3_col0\" class=\"data row3 col0\" >11.42</td>\n",
       "      <td id=\"T_6fee8_row3_col1\" class=\"data row3 col1\" >20.38</td>\n",
       "      <td id=\"T_6fee8_row3_col2\" class=\"data row3 col2\" >77.58</td>\n",
       "      <td id=\"T_6fee8_row3_col3\" class=\"data row3 col3\" >386.10</td>\n",
       "      <td id=\"T_6fee8_row3_col4\" class=\"data row3 col4\" >0.14</td>\n",
       "      <td id=\"T_6fee8_row3_col5\" class=\"data row3 col5\" >0.28</td>\n",
       "      <td id=\"T_6fee8_row3_col6\" class=\"data row3 col6\" >0.24</td>\n",
       "      <td id=\"T_6fee8_row3_col7\" class=\"data row3 col7\" >0.11</td>\n",
       "      <td id=\"T_6fee8_row3_col8\" class=\"data row3 col8\" >0.26</td>\n",
       "      <td id=\"T_6fee8_row3_col9\" class=\"data row3 col9\" >0.10</td>\n",
       "      <td id=\"T_6fee8_row3_col10\" class=\"data row3 col10\" >0.50</td>\n",
       "      <td id=\"T_6fee8_row3_col11\" class=\"data row3 col11\" >1.16</td>\n",
       "      <td id=\"T_6fee8_row3_col12\" class=\"data row3 col12\" >3.44</td>\n",
       "      <td id=\"T_6fee8_row3_col13\" class=\"data row3 col13\" >27.23</td>\n",
       "      <td id=\"T_6fee8_row3_col14\" class=\"data row3 col14\" >0.01</td>\n",
       "      <td id=\"T_6fee8_row3_col15\" class=\"data row3 col15\" >0.07</td>\n",
       "      <td id=\"T_6fee8_row3_col16\" class=\"data row3 col16\" >0.06</td>\n",
       "      <td id=\"T_6fee8_row3_col17\" class=\"data row3 col17\" >0.02</td>\n",
       "      <td id=\"T_6fee8_row3_col18\" class=\"data row3 col18\" >0.06</td>\n",
       "      <td id=\"T_6fee8_row3_col19\" class=\"data row3 col19\" >0.01</td>\n",
       "      <td id=\"T_6fee8_row3_col20\" class=\"data row3 col20\" >14.91</td>\n",
       "      <td id=\"T_6fee8_row3_col21\" class=\"data row3 col21\" >26.50</td>\n",
       "      <td id=\"T_6fee8_row3_col22\" class=\"data row3 col22\" >98.87</td>\n",
       "      <td id=\"T_6fee8_row3_col23\" class=\"data row3 col23\" >567.70</td>\n",
       "      <td id=\"T_6fee8_row3_col24\" class=\"data row3 col24\" >0.21</td>\n",
       "      <td id=\"T_6fee8_row3_col25\" class=\"data row3 col25\" >0.87</td>\n",
       "      <td id=\"T_6fee8_row3_col26\" class=\"data row3 col26\" >0.69</td>\n",
       "      <td id=\"T_6fee8_row3_col27\" class=\"data row3 col27\" >0.26</td>\n",
       "      <td id=\"T_6fee8_row3_col28\" class=\"data row3 col28\" >0.66</td>\n",
       "      <td id=\"T_6fee8_row3_col29\" class=\"data row3 col29\" >0.17</td>\n",
       "      <td id=\"T_6fee8_row3_col30\" class=\"data row3 col30\" >0.00</td>\n",
       "    </tr>\n",
       "    <tr>\n",
       "      <th id=\"T_6fee8_level0_row4\" class=\"row_heading level0 row4\" >4</th>\n",
       "      <td id=\"T_6fee8_row4_col0\" class=\"data row4 col0\" >20.29</td>\n",
       "      <td id=\"T_6fee8_row4_col1\" class=\"data row4 col1\" >14.34</td>\n",
       "      <td id=\"T_6fee8_row4_col2\" class=\"data row4 col2\" >135.10</td>\n",
       "      <td id=\"T_6fee8_row4_col3\" class=\"data row4 col3\" >1297.00</td>\n",
       "      <td id=\"T_6fee8_row4_col4\" class=\"data row4 col4\" >0.10</td>\n",
       "      <td id=\"T_6fee8_row4_col5\" class=\"data row4 col5\" >0.13</td>\n",
       "      <td id=\"T_6fee8_row4_col6\" class=\"data row4 col6\" >0.20</td>\n",
       "      <td id=\"T_6fee8_row4_col7\" class=\"data row4 col7\" >0.10</td>\n",
       "      <td id=\"T_6fee8_row4_col8\" class=\"data row4 col8\" >0.18</td>\n",
       "      <td id=\"T_6fee8_row4_col9\" class=\"data row4 col9\" >0.06</td>\n",
       "      <td id=\"T_6fee8_row4_col10\" class=\"data row4 col10\" >0.76</td>\n",
       "      <td id=\"T_6fee8_row4_col11\" class=\"data row4 col11\" >0.78</td>\n",
       "      <td id=\"T_6fee8_row4_col12\" class=\"data row4 col12\" >5.44</td>\n",
       "      <td id=\"T_6fee8_row4_col13\" class=\"data row4 col13\" >94.44</td>\n",
       "      <td id=\"T_6fee8_row4_col14\" class=\"data row4 col14\" >0.01</td>\n",
       "      <td id=\"T_6fee8_row4_col15\" class=\"data row4 col15\" >0.02</td>\n",
       "      <td id=\"T_6fee8_row4_col16\" class=\"data row4 col16\" >0.06</td>\n",
       "      <td id=\"T_6fee8_row4_col17\" class=\"data row4 col17\" >0.02</td>\n",
       "      <td id=\"T_6fee8_row4_col18\" class=\"data row4 col18\" >0.02</td>\n",
       "      <td id=\"T_6fee8_row4_col19\" class=\"data row4 col19\" >0.01</td>\n",
       "      <td id=\"T_6fee8_row4_col20\" class=\"data row4 col20\" >22.54</td>\n",
       "      <td id=\"T_6fee8_row4_col21\" class=\"data row4 col21\" >16.67</td>\n",
       "      <td id=\"T_6fee8_row4_col22\" class=\"data row4 col22\" >152.20</td>\n",
       "      <td id=\"T_6fee8_row4_col23\" class=\"data row4 col23\" >1575.00</td>\n",
       "      <td id=\"T_6fee8_row4_col24\" class=\"data row4 col24\" >0.14</td>\n",
       "      <td id=\"T_6fee8_row4_col25\" class=\"data row4 col25\" >0.20</td>\n",
       "      <td id=\"T_6fee8_row4_col26\" class=\"data row4 col26\" >0.40</td>\n",
       "      <td id=\"T_6fee8_row4_col27\" class=\"data row4 col27\" >0.16</td>\n",
       "      <td id=\"T_6fee8_row4_col28\" class=\"data row4 col28\" >0.24</td>\n",
       "      <td id=\"T_6fee8_row4_col29\" class=\"data row4 col29\" >0.08</td>\n",
       "      <td id=\"T_6fee8_row4_col30\" class=\"data row4 col30\" >0.00</td>\n",
       "    </tr>\n",
       "  </tbody>\n",
       "</table>\n"
      ],
      "text/plain": [
       "<pandas.io.formats.style.Styler at 0x212779ff280>"
      ]
     },
     "metadata": {},
     "output_type": "display_data"
    }
   ],
   "source": [
    "# Cargar el dataset\n",
    "data = load_breast_cancer()\n",
    "\n",
    "# Convertir a DataFrame de Pandas\n",
    "df = pd.DataFrame(data.data, columns=data.feature_names)\n",
    "df['target'] = data.target  # 0: Maligno (M), 1: Benigno (B)\n",
    "\n",
    "\n",
    "\n",
    "# Mostrar las primeras filas en una tabla\n",
    "# Resalta máximos y mínimos y muestra los números con dos decimales \n",
    "\n",
    "display(\n",
    "    df.head().style\n",
    "    .highlight_max(color='lightgreen')  # Resaltar máximos en verde claro\n",
    "    .highlight_min(color='pink')        # Resaltar mínimos en rosa\n",
    "    .format(\"{:.2f}\")                   # Formatear números a 2 decimales\n",
    "    .set_caption(\"Primeras 5 Filas del Dataset\")  # Añadir un título\n",
    ")\n"
   ]
  },
  {
   "cell_type": "markdown",
   "id": "008a8032-6dc6-48c6-b477-e4a55af6dce9",
   "metadata": {},
   "source": [
    "En la tabla anterior podemos observar cada una de las variables del dataset, cada variables es una columna y constituye una caracteristica diferente.\n",
    "\n",
    "Adicionalmente se señalan  por columna, en rojo y verde, los valores minimos y maximos respectivamente.\n",
    "\n",
    "A continuacion podemos observar la distribucion de clases del dataset completo, es decir, que proporcion son tumores malignos y que porcentajes \n"
   ]
  },
  {
   "cell_type": "code",
   "execution_count": 22,
   "id": "3ed70a6c-e444-4ae3-bb98-9d3341c7e539",
   "metadata": {},
   "outputs": [
    {
     "data": {
      "image/png": "[encoded data removed]",
      "text/plain": [
       "<Figure size 640x480 with 1 Axes>"
      ]
     },
     "metadata": {},
     "output_type": "display_data"
    }
   ],
   "source": [
    "# Distribución en entrenamiento\n",
    "y_train.value_counts().plot(kind='pie', autopct='%1.1f%%', colors=['skyblue', 'salmon'], labels=['Benigno', 'Maligno'])\n",
    "plt.title('Distribución de Clases en Entrenamiento')\n",
    "plt.ylabel('')\n",
    "plt.show()"
   ]
  },
  {
   "cell_type": "markdown",
   "id": "5462b07c-f9e9-4f63-9cc1-a4c7ce6ff1be",
   "metadata": {},
   "source": [
    "Se obsera que aproximadamente 2/3 del dataset son tumores benignos, esto puede causar cierto sesgo en el modelo. Estudiaremos en los proximos pasos si se presenta en este caso y el como manejarlo."
   ]
  },
  {
   "cell_type": "markdown",
   "id": "3680dccf-3bd5-4e17-909d-35324cf73e7e",
   "metadata": {
    "jp-MarkdownHeadingCollapsed": true
   },
   "source": [
    "## Preprocesamiento y Exploración de datos"
   ]
  },
  {
   "cell_type": "markdown",
   "id": "ec7c1683-25c8-4f0c-8dca-38378a3e7ae7",
   "metadata": {},
   "source": [
    "### División en Conjuntos de Entrenamiento y Prueba"
   ]
  },
  {
   "cell_type": "markdown",
   "id": "9a8f2ecf-9004-4c3b-aa53-04d696edd300",
   "metadata": {},
   "source": [
    "Tomaremos el 20% de los datos como datos de prueba y el 80% restante para entrenamiento de nuestro modelo predictivo"
   ]
  },
  {
   "cell_type": "code",
   "execution_count": 23,
   "id": "ad0afb09-6866-4252-b4cd-1f4fd66fd95a",
   "metadata": {},
   "outputs": [],
   "source": [
    "# Dividir los datos\n",
    "X = df.drop('target', axis=1)  # Características\n",
    "y = df['target']  # Etiquetas\n",
    "\n",
    "X_train, X_test, y_train, y_test = train_test_split(X, y, test_size=0.2, random_state=42, stratify=y)\n"
   ]
  },
  {
   "cell_type": "markdown",
   "id": "2b890e17-b51c-4bfd-b01e-db11ddfa1b44",
   "metadata": {},
   "source": [
    "### Normalización de Datos"
   ]
  },
  {
   "cell_type": "code",
   "execution_count": 24,
   "id": "ce6a4fe6-3938-4278-ac8d-8e41cb29e252",
   "metadata": {},
   "outputs": [],
   "source": [
    "# Normalizar las características\n",
    "scaler = StandardScaler()\n",
    "X_train = scaler.fit_transform(X_train)\n",
    "X_test = scaler.transform(X_test)"
   ]
  },
  {
   "cell_type": "markdown",
   "id": "3dcc57f6-5f4a-4c11-bc1b-6eb79bb00bca",
   "metadata": {},
   "source": [
    "### Verificación de distribucion de clases"
   ]
  },
  {
   "cell_type": "code",
   "execution_count": 25,
   "id": "9c892a2b-901e-4d03-9964-fcaa122f7bda",
   "metadata": {},
   "outputs": [
    {
     "data": {
      "image/png": "[encoded data removed]",
      "text/plain": [
       "<Figure size 640x480 with 1 Axes>"
      ]
     },
     "metadata": {},
     "output_type": "display_data"
    },
    {
     "data": {
      "image/png": "[encoded data removed]",
      "text/plain": [
       "<Figure size 640x480 with 1 Axes>"
      ]
     },
     "metadata": {},
     "output_type": "display_data"
    }
   ],
   "source": [
    "import matplotlib.pyplot as plt\n",
    "\n",
    "# Distribución en entrenamiento\n",
    "y_train.value_counts().plot(kind='pie', autopct='%1.1f%%', colors=['skyblue', 'salmon'], labels=['Benigno', 'Maligno'])\n",
    "plt.title('Distribución de Clases en Entrenamiento')\n",
    "plt.ylabel('')\n",
    "plt.show()\n",
    "\n",
    "# Distribución en prueba\n",
    "y_test.value_counts().plot(kind='pie', autopct='%1.1f%%', colors=['skyblue', 'salmon'], labels=['Benigno', 'Maligno'])\n",
    "plt.title('Distribución de Clases en Prueba')\n",
    "plt.ylabel('')\n",
    "plt.show()\n"
   ]
  },
  {
   "cell_type": "markdown",
   "id": "b28cdc1d-a749-4990-aa7b-6637628897a4",
   "metadata": {},
   "source": [
    "Podemos observar que en general la distirbucien en ambos conjuntos es similar, por lo que deberiamos obtener buenos resultados de prediccion en base al entrenamiento."
   ]
  },
  {
   "cell_type": "markdown",
   "id": "287c29fa-3ac3-49b3-a5ce-031a37588ce4",
   "metadata": {
    "jp-MarkdownHeadingCollapsed": true
   },
   "source": [
    "## Modelado: Regresión Logística"
   ]
  },
  {
   "cell_type": "markdown",
   "id": "a34a3fb0-020f-4e39-82d3-5c913cc7e253",
   "metadata": {},
   "source": [
    "### Búsqueda de hiperparámetros óptimos con validación cruzada utilizando GridSearchCV"
   ]
  },
  {
   "cell_type": "markdown",
   "id": "3aab5d97-0866-4998-b632-812f1a27a694",
   "metadata": {},
   "source": [
    "Un hiperparámetro es un parámetro cuyo valor se establece antes de que comience el proceso de aprendizaje del modelo.\n",
    "\n",
    "A diferencia de los parámetros internos del modelo que se ajustan durante el entrenamiento (como los coeficientes en una regresión logística), los hiperparámetros deben definirse antes de entrenar el modelo.\n",
    "\n",
    "¿Para qué sirven los Hiperparámetros?. Los hiperparámetros controlan el comportamiento del algoritmo de aprendizaje y pueden influir en el rendimiento del modelo. Ayudan a definir la estructura del modelo y el proceso de entrenamiento, asegurando que el modelo sea capaz de generalizar bien a nuevos datos.\n",
    "\n",
    "¿Por qué se configuran los Hiperparámetros? Configurar los hiperparámetros de manera adecuada es crucial para optimizar el rendimiento del modelo.\n",
    "\n",
    "La búsqueda de hiperparámetros permite encontrar la combinación óptima de valores que maximiza la precisión y la capacidad del modelo para predecir correctamente.\n",
    "\n",
    "Realizaremos la busqueda de los valores optimos de los mismos"
   ]
  },
  {
   "cell_type": "code",
   "execution_count": 26,
   "id": "73992990-7cf6-4c04-bd91-20c74aeed22c",
   "metadata": {},
   "outputs": [
    {
     "name": "stdout",
     "output_type": "stream",
     "text": [
      "Mejores hiperparámetros: {'C': 0.1, 'penalty': 'l2', 'solver': 'lbfgs'}\n"
     ]
    }
   ],
   "source": [
    "# Definir el modelo y los hiperparámetros a ajustar\n",
    "param_grid_LR = {\n",
    "    'C': [0.01, 0.1, 1],\n",
    "    'penalty': ['l2'],  \n",
    "    'solver': ['lbfgs']\n",
    "}\n",
    "\n",
    "# Realizar la búsqueda de hiperparámetros con validación cruzada (con la cédula como semilla)\n",
    "grid_search_LR = GridSearchCV(LogisticRegression(random_state=29501730, max_iter=1000), param_grid_LR, cv=3, scoring='accuracy')\n",
    "grid_search_LR.fit(X_train, y_train)\n",
    "\n",
    "# Obtener los mejores hiperparámetros\n",
    "best_params = grid_search_LR.best_params_\n",
    "print(\"Mejores hiperparámetros:\", best_params)\n"
   ]
  },
  {
   "cell_type": "markdown",
   "id": "622f6548-4641-4932-9c0d-bdfe02ce9da9",
   "metadata": {},
   "source": [
    "Explicacion de los Hiperparámetros Obtenidos:\n",
    "\n",
    "1. C (0.1):Controla la regularización del modelo.Un valor más pequeño (0.1) significa una regularización más fuerte para evitar el sobreajuste.\n",
    "\n",
    "2. penalty ('l2'):Aplica regularización de Ridge, la cual ayuda a que el modelo no se vea tan afectado . Evita que los coeficientes del modelo sean demasiado grandes, haciéndolo más estable.La penalización L2 tiende a producir modelos más estables y menos sensibles a pequeñas variaciones en los datos de entrenamiento.\n",
    "\n",
    "3. solver ('lbfgs'): Algoritmo utilizado para optimizar el modelo. Es rápido y eficiente para problemas de clasificación.\n",
    "\n",
    "En general, la regularización (C y penalty): Evita el sobreajuste y mejora la generalización. La optimización (solver): Asegura un ajuste eficiente y preciso.\n"
   ]
  },
  {
   "cell_type": "markdown",
   "id": "a504861e-b778-4361-9c8e-2648b5fdac10",
   "metadata": {},
   "source": [
    "### Entrenamiento del Modelo"
   ]
  },
  {
   "cell_type": "code",
   "execution_count": 27,
   "id": "ad8117e9-4e12-4453-976d-3bdc8df431eb",
   "metadata": {},
   "outputs": [
    {
     "data": {
      "text/html": [
       "<style>#sk-container-id-3 {\n",
       "  /* Definition of color scheme common for light and dark mode */\n",
       "  --sklearn-color-text: black;\n",
       "  --sklearn-color-line: gray;\n",
       "  /* Definition of color scheme for unfitted estimators */\n",
       "  --sklearn-color-unfitted-level-0: #fff5e6;\n",
       "  --sklearn-color-unfitted-level-1: #f6e4d2;\n",
       "  --sklearn-color-unfitted-level-2: #ffe0b3;\n",
       "  --sklearn-color-unfitted-level-3: chocolate;\n",
       "  /* Definition of color scheme for fitted estimators */\n",
       "  --sklearn-color-fitted-level-0: #f0f8ff;\n",
       "  --sklearn-color-fitted-level-1: #d4ebff;\n",
       "  --sklearn-color-fitted-level-2: #b3dbfd;\n",
       "  --sklearn-color-fitted-level-3: cornflowerblue;\n",
       "\n",
       "  /* Specific color for light theme */\n",
       "  --sklearn-color-text-on-default-background: var(--sg-text-color, var(--theme-code-foreground, var(--jp-content-font-color1, black)));\n",
       "  --sklearn-color-background: var(--sg-background-color, var(--theme-background, var(--jp-layout-color0, white)));\n",
       "  --sklearn-color-border-box: var(--sg-text-color, var(--theme-code-foreground, var(--jp-content-font-color1, black)));\n",
       "  --sklearn-color-icon: #696969;\n",
       "\n",
       "  @media (prefers-color-scheme: dark) {\n",
       "    /* Redefinition of color scheme for dark theme */\n",
       "    --sklearn-color-text-on-default-background: var(--sg-text-color, var(--theme-code-foreground, var(--jp-content-font-color1, white)));\n",
       "    --sklearn-color-background: var(--sg-background-color, var(--theme-background, var(--jp-layout-color0, #111)));\n",
       "    --sklearn-color-border-box: var(--sg-text-color, var(--theme-code-foreground, var(--jp-content-font-color1, white)));\n",
       "    --sklearn-color-icon: #878787;\n",
       "  }\n",
       "}\n",
       "\n",
       "#sk-container-id-3 {\n",
       "  color: var(--sklearn-color-text);\n",
       "}\n",
       "\n",
       "#sk-container-id-3 pre {\n",
       "  padding: 0;\n",
       "}\n",
       "\n",
       "#sk-container-id-3 input.sk-hidden--visually {\n",
       "  border: 0;\n",
       "  clip: rect(1px 1px 1px 1px);\n",
       "  clip: rect(1px, 1px, 1px, 1px);\n",
       "  height: 1px;\n",
       "  margin: -1px;\n",
       "  overflow: hidden;\n",
       "  padding: 0;\n",
       "  position: absolute;\n",
       "  width: 1px;\n",
       "}\n",
       "\n",
       "#sk-container-id-3 div.sk-dashed-wrapped {\n",
       "  border: 1px dashed var(--sklearn-color-line);\n",
       "  margin: 0 0.4em 0.5em 0.4em;\n",
       "  box-sizing: border-box;\n",
       "  padding-bottom: 0.4em;\n",
       "  background-color: var(--sklearn-color-background);\n",
       "}\n",
       "\n",
       "#sk-container-id-3 div.sk-container {\n",
       "  /* jupyter's `normalize.less` sets `[hidden] { display: none; }`\n",
       "     but bootstrap.min.css set `[hidden] { display: none !important; }`\n",
       "     so we also need the `!important` here to be able to override the\n",
       "     default hidden behavior on the sphinx rendered scikit-learn.org.\n",
       "     See: https://github.com/scikit-learn/scikit-learn/issues/21755 */\n",
       "  display: inline-block !important;\n",
       "  position: relative;\n",
       "}\n",
       "\n",
       "#sk-container-id-3 div.sk-text-repr-fallback {\n",
       "  display: none;\n",
       "}\n",
       "\n",
       "div.sk-parallel-item,\n",
       "div.sk-serial,\n",
       "div.sk-item {\n",
       "  /* draw centered vertical line to link estimators */\n",
       "  background-image: linear-gradient(var(--sklearn-color-text-on-default-background), var(--sklearn-color-text-on-default-background));\n",
       "  background-size: 2px 100%;\n",
       "  background-repeat: no-repeat;\n",
       "  background-position: center center;\n",
       "}\n",
       "\n",
       "/* Parallel-specific style estimator block */\n",
       "\n",
       "#sk-container-id-3 div.sk-parallel-item::after {\n",
       "  content: \"\";\n",
       "  width: 100%;\n",
       "  border-bottom: 2px solid var(--sklearn-color-text-on-default-background);\n",
       "  flex-grow: 1;\n",
       "}\n",
       "\n",
       "#sk-container-id-3 div.sk-parallel {\n",
       "  display: flex;\n",
       "  align-items: stretch;\n",
       "  justify-content: center;\n",
       "  background-color: var(--sklearn-color-background);\n",
       "  position: relative;\n",
       "}\n",
       "\n",
       "#sk-container-id-3 div.sk-parallel-item {\n",
       "  display: flex;\n",
       "  flex-direction: column;\n",
       "}\n",
       "\n",
       "#sk-container-id-3 div.sk-parallel-item:first-child::after {\n",
       "  align-self: flex-end;\n",
       "  width: 50%;\n",
       "}\n",
       "\n",
       "#sk-container-id-3 div.sk-parallel-item:last-child::after {\n",
       "  align-self: flex-start;\n",
       "  width: 50%;\n",
       "}\n",
       "\n",
       "#sk-container-id-3 div.sk-parallel-item:only-child::after {\n",
       "  width: 0;\n",
       "}\n",
       "\n",
       "/* Serial-specific style estimator block */\n",
       "\n",
       "#sk-container-id-3 div.sk-serial {\n",
       "  display: flex;\n",
       "  flex-direction: column;\n",
       "  align-items: center;\n",
       "  background-color: var(--sklearn-color-background);\n",
       "  padding-right: 1em;\n",
       "  padding-left: 1em;\n",
       "}\n",
       "\n",
       "\n",
       "/* Toggleable style: style used for estimator/Pipeline/ColumnTransformer box that is\n",
       "clickable and can be expanded/collapsed.\n",
       "- Pipeline and ColumnTransformer use this feature and define the default style\n",
       "- Estimators will overwrite some part of the style using the `sk-estimator` class\n",
       "*/\n",
       "\n",
       "/* Pipeline and ColumnTransformer style (default) */\n",
       "\n",
       "#sk-container-id-3 div.sk-toggleable {\n",
       "  /* Default theme specific background. It is overwritten whether we have a\n",
       "  specific estimator or a Pipeline/ColumnTransformer */\n",
       "  background-color: var(--sklearn-color-background);\n",
       "}\n",
       "\n",
       "/* Toggleable label */\n",
       "#sk-container-id-3 label.sk-toggleable__label {\n",
       "  cursor: pointer;\n",
       "  display: block;\n",
       "  width: 100%;\n",
       "  margin-bottom: 0;\n",
       "  padding: 0.5em;\n",
       "  box-sizing: border-box;\n",
       "  text-align: center;\n",
       "}\n",
       "\n",
       "#sk-container-id-3 label.sk-toggleable__label-arrow:before {\n",
       "  /* Arrow on the left of the label */\n",
       "  content: \"▸\";\n",
       "  float: left;\n",
       "  margin-right: 0.25em;\n",
       "  color: var(--sklearn-color-icon);\n",
       "}\n",
       "\n",
       "#sk-container-id-3 label.sk-toggleable__label-arrow:hover:before {\n",
       "  color: var(--sklearn-color-text);\n",
       "}\n",
       "\n",
       "/* Toggleable content - dropdown */\n",
       "\n",
       "#sk-container-id-3 div.sk-toggleable__content {\n",
       "  max-height: 0;\n",
       "  max-width: 0;\n",
       "  overflow: hidden;\n",
       "  text-align: left;\n",
       "  /* unfitted */\n",
       "  background-color: var(--sklearn-color-unfitted-level-0);\n",
       "}\n",
       "\n",
       "#sk-container-id-3 div.sk-toggleable__content.fitted {\n",
       "  /* fitted */\n",
       "  background-color: var(--sklearn-color-fitted-level-0);\n",
       "}\n",
       "\n",
       "#sk-container-id-3 div.sk-toggleable__content pre {\n",
       "  margin: 0.2em;\n",
       "  border-radius: 0.25em;\n",
       "  color: var(--sklearn-color-text);\n",
       "  /* unfitted */\n",
       "  background-color: var(--sklearn-color-unfitted-level-0);\n",
       "}\n",
       "\n",
       "#sk-container-id-3 div.sk-toggleable__content.fitted pre {\n",
       "  /* unfitted */\n",
       "  background-color: var(--sklearn-color-fitted-level-0);\n",
       "}\n",
       "\n",
       "#sk-container-id-3 input.sk-toggleable__control:checked~div.sk-toggleable__content {\n",
       "  /* Expand drop-down */\n",
       "  max-height: 200px;\n",
       "  max-width: 100%;\n",
       "  overflow: auto;\n",
       "}\n",
       "\n",
       "#sk-container-id-3 input.sk-toggleable__control:checked~label.sk-toggleable__label-arrow:before {\n",
       "  content: \"▾\";\n",
       "}\n",
       "\n",
       "/* Pipeline/ColumnTransformer-specific style */\n",
       "\n",
       "#sk-container-id-3 div.sk-label input.sk-toggleable__control:checked~label.sk-toggleable__label {\n",
       "  color: var(--sklearn-color-text);\n",
       "  background-color: var(--sklearn-color-unfitted-level-2);\n",
       "}\n",
       "\n",
       "#sk-container-id-3 div.sk-label.fitted input.sk-toggleable__control:checked~label.sk-toggleable__label {\n",
       "  background-color: var(--sklearn-color-fitted-level-2);\n",
       "}\n",
       "\n",
       "/* Estimator-specific style */\n",
       "\n",
       "/* Colorize estimator box */\n",
       "#sk-container-id-3 div.sk-estimator input.sk-toggleable__control:checked~label.sk-toggleable__label {\n",
       "  /* unfitted */\n",
       "  background-color: var(--sklearn-color-unfitted-level-2);\n",
       "}\n",
       "\n",
       "#sk-container-id-3 div.sk-estimator.fitted input.sk-toggleable__control:checked~label.sk-toggleable__label {\n",
       "  /* fitted */\n",
       "  background-color: var(--sklearn-color-fitted-level-2);\n",
       "}\n",
       "\n",
       "#sk-container-id-3 div.sk-label label.sk-toggleable__label,\n",
       "#sk-container-id-3 div.sk-label label {\n",
       "  /* The background is the default theme color */\n",
       "  color: var(--sklearn-color-text-on-default-background);\n",
       "}\n",
       "\n",
       "/* On hover, darken the color of the background */\n",
       "#sk-container-id-3 div.sk-label:hover label.sk-toggleable__label {\n",
       "  color: var(--sklearn-color-text);\n",
       "  background-color: var(--sklearn-color-unfitted-level-2);\n",
       "}\n",
       "\n",
       "/* Label box, darken color on hover, fitted */\n",
       "#sk-container-id-3 div.sk-label.fitted:hover label.sk-toggleable__label.fitted {\n",
       "  color: var(--sklearn-color-text);\n",
       "  background-color: var(--sklearn-color-fitted-level-2);\n",
       "}\n",
       "\n",
       "/* Estimator label */\n",
       "\n",
       "#sk-container-id-3 div.sk-label label {\n",
       "  font-family: monospace;\n",
       "  font-weight: bold;\n",
       "  display: inline-block;\n",
       "  line-height: 1.2em;\n",
       "}\n",
       "\n",
       "#sk-container-id-3 div.sk-label-container {\n",
       "  text-align: center;\n",
       "}\n",
       "\n",
       "/* Estimator-specific */\n",
       "#sk-container-id-3 div.sk-estimator {\n",
       "  font-family: monospace;\n",
       "  border: 1px dotted var(--sklearn-color-border-box);\n",
       "  border-radius: 0.25em;\n",
       "  box-sizing: border-box;\n",
       "  margin-bottom: 0.5em;\n",
       "  /* unfitted */\n",
       "  background-color: var(--sklearn-color-unfitted-level-0);\n",
       "}\n",
       "\n",
       "#sk-container-id-3 div.sk-estimator.fitted {\n",
       "  /* fitted */\n",
       "  background-color: var(--sklearn-color-fitted-level-0);\n",
       "}\n",
       "\n",
       "/* on hover */\n",
       "#sk-container-id-3 div.sk-estimator:hover {\n",
       "  /* unfitted */\n",
       "  background-color: var(--sklearn-color-unfitted-level-2);\n",
       "}\n",
       "\n",
       "#sk-container-id-3 div.sk-estimator.fitted:hover {\n",
       "  /* fitted */\n",
       "  background-color: var(--sklearn-color-fitted-level-2);\n",
       "}\n",
       "\n",
       "/* Specification for estimator info (e.g. \"i\" and \"?\") */\n",
       "\n",
       "/* Common style for \"i\" and \"?\" */\n",
       "\n",
       ".sk-estimator-doc-link,\n",
       "a:link.sk-estimator-doc-link,\n",
       "a:visited.sk-estimator-doc-link {\n",
       "  float: right;\n",
       "  font-size: smaller;\n",
       "  line-height: 1em;\n",
       "  font-family: monospace;\n",
       "  background-color: var(--sklearn-color-background);\n",
       "  border-radius: 1em;\n",
       "  height: 1em;\n",
       "  width: 1em;\n",
       "  text-decoration: none !important;\n",
       "  margin-left: 1ex;\n",
       "  /* unfitted */\n",
       "  border: var(--sklearn-color-unfitted-level-1) 1pt solid;\n",
       "  color: var(--sklearn-color-unfitted-level-1);\n",
       "}\n",
       "\n",
       ".sk-estimator-doc-link.fitted,\n",
       "a:link.sk-estimator-doc-link.fitted,\n",
       "a:visited.sk-estimator-doc-link.fitted {\n",
       "  /* fitted */\n",
       "  border: var(--sklearn-color-fitted-level-1) 1pt solid;\n",
       "  color: var(--sklearn-color-fitted-level-1);\n",
       "}\n",
       "\n",
       "/* On hover */\n",
       "div.sk-estimator:hover .sk-estimator-doc-link:hover,\n",
       ".sk-estimator-doc-link:hover,\n",
       "div.sk-label-container:hover .sk-estimator-doc-link:hover,\n",
       ".sk-estimator-doc-link:hover {\n",
       "  /* unfitted */\n",
       "  background-color: var(--sklearn-color-unfitted-level-3);\n",
       "  color: var(--sklearn-color-background);\n",
       "  text-decoration: none;\n",
       "}\n",
       "\n",
       "div.sk-estimator.fitted:hover .sk-estimator-doc-link.fitted:hover,\n",
       ".sk-estimator-doc-link.fitted:hover,\n",
       "div.sk-label-container:hover .sk-estimator-doc-link.fitted:hover,\n",
       ".sk-estimator-doc-link.fitted:hover {\n",
       "  /* fitted */\n",
       "  background-color: var(--sklearn-color-fitted-level-3);\n",
       "  color: var(--sklearn-color-background);\n",
       "  text-decoration: none;\n",
       "}\n",
       "\n",
       "/* Span, style for the box shown on hovering the info icon */\n",
       ".sk-estimator-doc-link span {\n",
       "  display: none;\n",
       "  z-index: 9999;\n",
       "  position: relative;\n",
       "  font-weight: normal;\n",
       "  right: .2ex;\n",
       "  padding: .5ex;\n",
       "  margin: .5ex;\n",
       "  width: min-content;\n",
       "  min-width: 20ex;\n",
       "  max-width: 50ex;\n",
       "  color: var(--sklearn-color-text);\n",
       "  box-shadow: 2pt 2pt 4pt #999;\n",
       "  /* unfitted */\n",
       "  background: var(--sklearn-color-unfitted-level-0);\n",
       "  border: .5pt solid var(--sklearn-color-unfitted-level-3);\n",
       "}\n",
       "\n",
       ".sk-estimator-doc-link.fitted span {\n",
       "  /* fitted */\n",
       "  background: var(--sklearn-color-fitted-level-0);\n",
       "  border: var(--sklearn-color-fitted-level-3);\n",
       "}\n",
       "\n",
       ".sk-estimator-doc-link:hover span {\n",
       "  display: block;\n",
       "}\n",
       "\n",
       "/* \"?\"-specific style due to the `<a>` HTML tag */\n",
       "\n",
       "#sk-container-id-3 a.estimator_doc_link {\n",
       "  float: right;\n",
       "  font-size: 1rem;\n",
       "  line-height: 1em;\n",
       "  font-family: monospace;\n",
       "  background-color: var(--sklearn-color-background);\n",
       "  border-radius: 1rem;\n",
       "  height: 1rem;\n",
       "  width: 1rem;\n",
       "  text-decoration: none;\n",
       "  /* unfitted */\n",
       "  color: var(--sklearn-color-unfitted-level-1);\n",
       "  border: var(--sklearn-color-unfitted-level-1) 1pt solid;\n",
       "}\n",
       "\n",
       "#sk-container-id-3 a.estimator_doc_link.fitted {\n",
       "  /* fitted */\n",
       "  border: var(--sklearn-color-fitted-level-1) 1pt solid;\n",
       "  color: var(--sklearn-color-fitted-level-1);\n",
       "}\n",
       "\n",
       "/* On hover */\n",
       "#sk-container-id-3 a.estimator_doc_link:hover {\n",
       "  /* unfitted */\n",
       "  background-color: var(--sklearn-color-unfitted-level-3);\n",
       "  color: var(--sklearn-color-background);\n",
       "  text-decoration: none;\n",
       "}\n",
       "\n",
       "#sk-container-id-3 a.estimator_doc_link.fitted:hover {\n",
       "  /* fitted */\n",
       "  background-color: var(--sklearn-color-fitted-level-3);\n",
       "}\n",
       "</style><div id=\"sk-container-id-3\" class=\"sk-top-container\"><div class=\"sk-text-repr-fallback\"><pre>LogisticRegression(C=0.1, max_iter=1000, random_state=29501730)</pre><b>In a Jupyter environment, please rerun this cell to show the HTML representation or trust the notebook. <br />On GitHub, the HTML representation is unable to render, please try loading this page with nbviewer.org.</b></div><div class=\"sk-container\" hidden><div class=\"sk-item\"><div class=\"sk-estimator fitted sk-toggleable\"><input class=\"sk-toggleable__control sk-hidden--visually\" id=\"sk-estimator-id-3\" type=\"checkbox\" checked><label for=\"sk-estimator-id-3\" class=\"sk-toggleable__label fitted sk-toggleable__label-arrow fitted\">&nbsp;&nbsp;LogisticRegression<a class=\"sk-estimator-doc-link fitted\" rel=\"noreferrer\" target=\"_blank\" href=\"https://scikit-learn.org/1.5/modules/generated/sklearn.linear_model.LogisticRegression.html\">?<span>Documentation for LogisticRegression</span></a><span class=\"sk-estimator-doc-link fitted\">i<span>Fitted</span></span></label><div class=\"sk-toggleable__content fitted\"><pre>LogisticRegression(C=0.1, max_iter=1000, random_state=29501730)</pre></div> </div></div></div></div>"
      ],
      "text/plain": [
       "LogisticRegression(C=0.1, max_iter=1000, random_state=29501730)"
      ]
     },
     "execution_count": 27,
     "metadata": {},
     "output_type": "execute_result"
    }
   ],
   "source": [
    "# Crear y entrenar el modelo con los mejores hiperparámetros\n",
    "model = LogisticRegression(random_state=29501730, max_iter=1000, **best_params)\n",
    "model.fit(X_train, y_train)\n"
   ]
  },
  {
   "cell_type": "markdown",
   "id": "24d6ca8c-d0fb-4b8c-815f-470df0c628e3",
   "metadata": {},
   "source": [
    "### Predicciones"
   ]
  },
  {
   "cell_type": "code",
   "execution_count": 28,
   "id": "349125f1-2c8c-4415-972e-59c2156720db",
   "metadata": {},
   "outputs": [],
   "source": [
    "# Predecir en el conjunto de prueba\n",
    "y_pred = model.predict(X_test)\n",
    "y_pred_proba = model.predict_proba(X_test)[:, 1]  # Probabilidades para la clase positiva"
   ]
  },
  {
   "cell_type": "markdown",
   "id": "f9de4bf2-6939-4f85-96a9-0af737d08ee3",
   "metadata": {
    "jp-MarkdownHeadingCollapsed": true
   },
   "source": [
    "## Evaluación del Modelo"
   ]
  },
  {
   "cell_type": "markdown",
   "id": "8d127484-6561-4211-b492-c7fb0ee0e8e9",
   "metadata": {},
   "source": [
    "### Exactitud (Accuracy)"
   ]
  },
  {
   "cell_type": "code",
   "execution_count": 29,
   "id": "87a4c653-45c0-4c7e-bb9f-6e4b29928371",
   "metadata": {},
   "outputs": [
    {
     "name": "stdout",
     "output_type": "stream",
     "text": [
      "Exactitud: 0.97\n"
     ]
    }
   ],
   "source": [
    "accuracy = accuracy_score(y_test, y_pred)\n",
    "print(f\"Exactitud: {accuracy:.2f}\")"
   ]
  },
  {
   "cell_type": "markdown",
   "id": "37c19701-65ac-47d6-bf9c-914857f53e2d",
   "metadata": {},
   "source": [
    "### Matriz de Confusión"
   ]
  },
  {
   "cell_type": "code",
   "execution_count": 30,
   "id": "b93b42f0-2572-4883-8ccc-bffb5039d3c1",
   "metadata": {},
   "outputs": [
    {
     "data": {
      "image/png": "[encoded data removed]",
      "text/plain": [
       "<Figure size 640x480 with 2 Axes>"
      ]
     },
     "metadata": {},
     "output_type": "display_data"
    }
   ],
   "source": [
    "conf_matrix = confusion_matrix(y_test, y_pred)\n",
    "sns.heatmap(conf_matrix, annot=True, fmt='d', cmap='Blues', xticklabels=data.target_names, yticklabels=data.target_names)\n",
    "plt.xlabel('Predicción')\n",
    "plt.ylabel('Real')\n",
    "plt.title('Matriz de Confusión')\n",
    "plt.show()"
   ]
  },
  {
   "cell_type": "markdown",
   "id": "8c18f456-0af4-4a62-9aa0-10da3b89b63b",
   "metadata": {},
   "source": [
    "### F1-Score"
   ]
  },
  {
   "cell_type": "code",
   "execution_count": 31,
   "id": "71a265b9-7f28-4a39-8410-d665cf4228c3",
   "metadata": {},
   "outputs": [
    {
     "name": "stdout",
     "output_type": "stream",
     "text": [
      "F1-Score: 0.98\n"
     ]
    }
   ],
   "source": [
    "f1 = f1_score(y_test, y_pred)\n",
    "print(f\"F1-Score: {f1:.2f}\")"
   ]
  },
  {
   "cell_type": "markdown",
   "id": "ed25c175-1280-4daa-9572-6db9745cce57",
   "metadata": {},
   "source": [
    "### Curva ROC y AUC"
   ]
  },
  {
   "cell_type": "code",
   "execution_count": 32,
   "id": "4f417e21-2659-4fbe-bbf8-acb93f85a548",
   "metadata": {},
   "outputs": [
    {
     "data": {
      "image/png": "[encoded data removed]",
      "text/plain": [
       "<Figure size 640x480 with 1 Axes>"
      ]
     },
     "metadata": {},
     "output_type": "display_data"
    }
   ],
   "source": [
    "fpr, tpr, thresholds = roc_curve(y_test, y_pred_proba)\n",
    "auc = roc_auc_score(y_test, y_pred_proba)\n",
    "\n",
    "# Graficar la curva ROC\n",
    "plt.plot(fpr, tpr, label=f'AUC = {auc:.2f}')\n",
    "plt.plot([0, 1], [0, 1], linestyle='--', color='gray')\n",
    "plt.xlabel('Tasa de Falsos Positivos (FPR)')\n",
    "plt.ylabel('Tasa de Verdaderos Positivos (TPR)')\n",
    "plt.title('Curva ROC')\n",
    "plt.legend()\n",
    "plt.show()"
   ]
  },
  {
   "cell_type": "markdown",
   "id": "488b03db-81dd-423f-bfe5-89e7cb816480",
   "metadata": {
    "jp-MarkdownHeadingCollapsed": true
   },
   "source": [
    "### Impacto del Balance de Clases en el Modelo"
   ]
  },
  {
   "cell_type": "markdown",
   "id": "986c8923-bc8d-4617-b733-4d97c3ee80c3",
   "metadata": {},
   "source": [
    "#### ¿Qué es el Balance de Clases?"
   ]
  },
  {
   "cell_type": "markdown",
   "id": "0f473e2d-f672-4a8e-b1c0-731191bf34b9",
   "metadata": {},
   "source": [
    "El balance de clases se refiere a la distribución de las categorías (clases) en el conjunto de datos. En este caso, el dataset tiene dos clases:\n",
    "\n",
    "Benigno (1): 357 muestras.\n",
    "\n",
    "Maligno (0): 212 muestras.\n",
    "\n",
    "Esto significa que hay más muestras de tumores benignos que malignos, lo que resulta en un desequilibrio de clases."
   ]
  },
  {
   "cell_type": "markdown",
   "id": "a161504b-6eba-4180-b728-2adb73185f35",
   "metadata": {},
   "source": [
    "#### ¿Cómo Afecta el Desbalance de Clases al Modelo?"
   ]
  },
  {
   "cell_type": "markdown",
   "id": "dfb96188-0cde-4b19-8ed0-3b9d2dbdb69f",
   "metadata": {},
   "source": [
    "Cuando las clases están desbalanceadas, el modelo puede tener dificultades para aprender a predecir correctamente la clase minoritaria (en este caso, los tumores malignos). Esto ocurre porque:\n",
    "\n",
    "Sesgo hacia la clase mayoritaria: El modelo puede volverse \"perezoso\" y simplemente predecir siempre la clase mayoritaria (benigno) para maximizar la exactitud (accuracy). Por ejemplo, si el 60% de los tumores son benignos, el modelo podría lograr un 60% de exactitud simplemente prediciendo siempre \"benigno\", lo cual no es útil.\n",
    "\n",
    "Dificultad para aprender patrones de la clase minoritaria: Al haber menos muestras de tumores malignos, el modelo tiene menos oportunidades de aprender los patrones asociados a esta clase, lo que puede resultar en un menor recall (capacidad de detectar correctamente los tumores malignos)."
   ]
  },
  {
   "cell_type": "markdown",
   "id": "53a5137f-7d94-4652-a0ff-675e13e70437",
   "metadata": {
    "jp-MarkdownHeadingCollapsed": true
   },
   "source": [
    "### Explicación de Métricas"
   ]
  },
  {
   "cell_type": "markdown",
   "id": "0491c5cd-079d-4b7a-9a36-d19f1e29c5c5",
   "metadata": {},
   "source": [
    "#### F1-Score: "
   ]
  },
  {
   "cell_type": "markdown",
   "id": "b02f6471-439c-4486-9100-88a5cb5f2a33",
   "metadata": {},
   "source": [
    "El F1-Score es una métrica que combina la precisión y el recall para proporcionar un único valor que refleja el equilibrio entre estos dos aspectos.\n",
    "\n",
    "Precisión (Precision): Mide cuántos de los elementos predichos como positivos realmente lo son. Se calcula como la proporción de verdaderos positivos sobre la suma de verdaderos positivos y falsos positivos. En términos simples, responde a la pregunta: de todas las predicciones positivas, ¿cuántas eran correctas?\n",
    "\n",
    "Recall (Sensibilidad o Recall): Mide cuántos de los elementos verdaderamente positivos fueron identificados correctamente por el modelo. Se calcula como la proporción de verdaderos positivos sobre la suma de verdaderos positivos y falsos negativos. En términos simples, responde a la pregunta: de todas las instancias verdaderamente positivas, ¿cuántas fueron detectadas?\n",
    "\n",
    "El F1-Score se define como la media armónica de la precisión y el recall, proporcionando un único valor que equilibra ambos aspectos. Esta métrica es especialmente útil en contextos donde el costo de los falsos negativos es alto, como en la detección de enfermedades (por ejemplo, cáncer de mama) donde es crucial identificar todos los casos positivos."
   ]
  },
  {
   "cell_type": "markdown",
   "id": "d9e09231-233c-4043-9ac6-670b5e0027ee",
   "metadata": {},
   "source": [
    "#### AUC (Área bajo la curva ROC):"
   ]
  },
  {
   "cell_type": "markdown",
   "id": "d9257eaa-f13a-4952-afec-037b4f8df685",
   "metadata": {},
   "source": [
    "El AUC, o área bajo la curva ROC, es una métrica que evalúa la capacidad del modelo para distinguir entre las dos clases, independientemente del umbral de clasificación.\n",
    "\n",
    "Curva ROC (Receiver Operating Characteristic): Es una gráfica que muestra la relación entre el verdadero positivo (sensitivity o recall) y el falso positivo rate (proporción de falsos positivos) para diferentes umbrales de clasificación.\n",
    "\n",
    "Un AUC cercano a 1 indica que el modelo tiene una excelente capacidad para separar las clases, incluso si están desbalanceadas. Esto significa que el modelo es bueno para clasificar correctamente las instancias positivas y negativas, incluso si el umbral de decisión varía."
   ]
  },
  {
   "cell_type": "markdown",
   "id": "e91ed40f-c1dc-4a10-a9f5-9c6ead1407e2",
   "metadata": {},
   "source": [
    "#### ¿Por qué el F1-Score y el AUC son Importantes?"
   ]
  },
  {
   "cell_type": "markdown",
   "id": "50d7cd30-34fc-4a74-b673-841cfebf2fda",
   "metadata": {},
   "source": [
    "En muchos casos, la métrica de exactitud puede ser engañosa, especialmente cuando las clases están desbalanceadas como en este caso.\n",
    "\n",
    "Exactitud (Accuracy): Mide la proporción de predicciones correctas sobre el total de predicciones. Aunque una alta exactitud es deseable, no siempre refleja la verdadera capacidad del modelo para identificar ambas clases de manera equilibrada.\n",
    "\n",
    "Por ejemplo, si se tiene un conjunto de datos donde el 98% de las instancias son negativas y solo el 2% son positivas, un modelo que siempre predice la clase negativa tendrá una alta exactitud (98%), pero fallará completamente en identificar las instancias positivas. En nuestro caso el desbalance es mucho menor.\n",
    "\n",
    "En estos casos es donde el F1-score y el AUC se vuelven cruciales:\n",
    "\n",
    "F1-Score: Proporciona una visión más equilibrada de la capacidad del modelo para identificar correctamente tanto las instancias positivas como negativas, considerando el desbalance de clases.\n",
    "\n",
    "AUC: Evalúa la capacidad del modelo para separar las clases independientemente del umbral, ofreciendo una medida más robusta de la calidad del modelo en contextos con clases desbalanceadas.\n",
    "\n",
    "Aunque la exactitud de nuestro modelo es alta (0.97), esto no nos dice mucho sobre la capacidad del modelo para predecir correctamente ambas clases. El F1-score, que combina precisión y recall, es una métrica más adecuada en este caso, ya que tiene en cuenta el desbalance de clases. En esta metrica obtuvimos un resultado del 0.98. Adicionalmente se obtuvo una muy buena gráfica AUC, igual a 1 en practicamente toda su extension. En general las métricas son consistentes en los resultados y representan a un modelo que tiene un alto grado de eficiciente realziando predicciones."
   ]
  }
 ],
 "metadata": {
  "kernelspec": {
   "display_name": "Python 3 (ipykernel)",
   "language": "python",
   "name": "python3"
  },
  "language_info": {
   "codemirror_mode": {
    "name": "ipython",
    "version": 3
   },
   "file_extension": ".py",
   "mimetype": "text/x-python",
   "name": "python",
   "nbconvert_exporter": "python",
   "pygments_lexer": "ipython3",
   "version": "3.10.6"
  }
 },
 "nbformat": 4,
 "nbformat_minor": 5
}
